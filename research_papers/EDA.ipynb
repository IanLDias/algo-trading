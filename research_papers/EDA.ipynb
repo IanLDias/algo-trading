{
 "cells": [
  {
   "cell_type": "code",
   "execution_count": 1,
   "id": "de04cdce",
   "metadata": {},
   "outputs": [],
   "source": [
    "from selecting_data import get_data\n",
    "import pandas as pd\n",
    "from datetime import datetime\n",
    "import plotly.graph_objects as go"
   ]
  },
  {
   "cell_type": "code",
   "execution_count": 8,
   "id": "a3028f8f",
   "metadata": {},
   "outputs": [
    {
     "name": "stdout",
     "output_type": "stream",
     "text": [
      "Finding data for: 'BTC', 'ETH', 'ADA', 'DOGE', 'FUN'\n"
     ]
    }
   ],
   "source": [
    "tickers = ['BTC', 'ETH', 'ADA', 'DOGE', 'FUN']\n",
    "data = get_data(tickers)\n",
    "\n",
    "df = pd.DataFrame(data, columns = ['id', 'symbol', 'date', 'high', 'low', 'open', 'close', 'volumeto', 'volumefor'])\n",
    "df = df.drop('id', axis=1)\n",
    "df = df.drop_duplicates()"
   ]
  },
  {
   "cell_type": "code",
   "execution_count": 3,
   "id": "317d8576",
   "metadata": {},
   "outputs": [],
   "source": [
    "# Helper functions\n",
    "def convert_unix_to_datetime(date_col):\n",
    "    'Converts the unix dates into YYYY-MM-DD'\n",
    "    int_list = list((map(int,date_col)))\n",
    "    date_list = list(map(datetime.utcfromtimestamp, int_list))\n",
    "    converted_dates = [date_list[i].strftime('%Y-%m-%d') for i in range(len(date_list))]\n",
    "    return converted_dates\n",
    "\n",
    "def plot_crypto(symbol):\n",
    "    'Plot the graph given a symbol name'\n",
    "    df_symbol = df[df['symbol'] == f'{symbol}']\n",
    "    fig = go.Figure(data=go.Ohlc(x=df_symbol['date'],\n",
    "                        open=df_symbol['open'],\n",
    "                        high=df_symbol['high'],\n",
    "                        low=df_symbol['low'],\n",
    "                        close=df_symbol['close']))\n",
    "    fig.update_layout(\n",
    "    title=f'{symbol} currency')\n",
    "    return fig.show()\n",
    "\n",
    "def get_coin(symbol, df=df):\n",
    "    return df[df['symbol'] == symbol]\n",
    "eth = get_coin('ETH')\n",
    "\n",
    "date_column = convert_unix_to_datetime(df['date'])\n",
    "df['date'] = date_column"
   ]
  },
  {
   "cell_type": "code",
   "execution_count": 12,
   "id": "e3716a44",
   "metadata": {},
   "outputs": [],
   "source": [
    "current_symbols = ('BTC', 'ETH', 'BNB', 'BCC', 'NEO', 'LTC', 'QTUM', 'ADA', 'XRP', 'EOS', 'TUSD', 'IOTA', 'XLM', 'ONT', 'TRX', 'ETC', 'ICX', 'VEN', 'NULS', 'VET', 'PAX', 'BCHABC', 'BCHSV', 'USDC', 'LINK', 'WAVES', 'BTT', 'USDS', 'ONG', 'HOT', 'ZIL', 'ZRX', 'FET', 'BAT', 'XMR', 'ZEC', 'IOST', 'CELR', 'DASH', 'NANO', 'OMG', 'THETA', 'ENJ', 'MITH', 'MATIC', 'ATOM', 'TFUEL', 'ONE', 'FTM', 'ALGO', 'USDSB', 'GTO', 'ERD', 'DOGE', 'DUSK', 'ANKR', 'WIN', 'COS', 'NPXS', 'COCOS', 'MTL', 'TOMO', 'PERL', 'DENT', 'MFT', 'KEY', 'STORM', 'DOCK', 'WAN', 'FUN', 'CVC', 'CHZ', 'BAND', 'BUSD', 'BEAM', 'XTZ', 'REN', 'RVN', 'HC', 'HBAR', 'NKN', 'STX', 'KAVA', 'ARPA', 'IOTX', 'RLC', 'MCO', 'CTXC', 'BCH', 'TROY', 'VITE', 'FTT', 'BUS', 'USD', 'USD', 'EUR', 'OGN', 'DREP', 'BULL', 'BEAR', 'ETHBULL', 'ETHBEAR', 'TCT', 'WRX', 'BTS', 'LSK', 'BNT', 'LTO', 'EOSBULL', 'EOSBEAR', 'XRPBULL', 'XRPBEAR', 'STRAT', 'AION', 'MBL', 'COTI', 'BNBBULL', 'BNBBEAR', 'STPT', 'USD', 'WTC', 'DATA', 'XZC', 'SOL', 'USDT', 'CTSI', 'HIVE', 'CHR', 'BTCUP', 'BTCDOWN', 'GXS', 'ARDR', 'LEND', 'MDT', 'STMX', 'KNC', 'REP', 'LRC', 'PNT', 'USD', 'COMP', 'USDT', 'BKRW', 'SC', 'ZEN', 'SNX', 'ETHUP', 'ETHDOWN', 'ADAUP', 'ADADOWN', 'LINKUP', 'LINKDOWN', 'VTHO', 'DGB', 'GBP', 'SXP', 'MKR', 'DAI', 'DCR', 'STORJ', 'BNBUP', 'BNBDOWN', 'XTZUP', 'XTZDOWN', 'USDT', 'MANA', 'AUD', 'YFI', 'BAL', 'BLZ', 'IRIS', 'KMD', 'USD', 'JST', 'SRM', 'ANT', 'CRV', 'SAND', 'OCEAN', 'NMR', 'DOT', 'LUNA', 'RSR', 'PAXG', 'WNXM', 'TRB', 'BZRX', 'SUSHI', 'YFII', 'KSM', 'EGLD', 'DIA', 'RUNE', 'FIO', 'UMA', 'EOSUP', 'EOSDOWN', 'TRXUP', 'TRXDOWN', 'XRPUP', 'XRPDOWN', 'DOTUP', 'DOTDOWN', 'USD', 'BEL', 'WING', 'LTCUP', 'LTCDOWN', 'UNI', 'NBS', 'OXT', 'SUN', 'AVAX', 'HNT', 'FLM', 'UNIUP', 'UNIDOWN', 'ORN', 'UTK', 'XVS', 'ALPHA', 'USD', 'AAVE', 'NEAR', 'SXPUP', 'SXPDOWN', 'FIL', 'FILUP', 'FILDOWN', 'YFIUP', 'YFIDOWN', 'INJ', 'AUDIO', 'CTK', 'BCHUP', 'BCHDOWN', 'AKRO', 'AXS', 'HARD', 'DNT', 'STRAX', 'UNFI', 'ROSE', 'AVA', 'XEM', 'AAVEUP', 'AAVEDOWN', 'SKL', 'SUSD', 'SUSHIUP', 'SUSHIDOWN', 'XLMUP', 'XLMDOWN', 'GRT', 'JUV', 'PSG', 'USDT', '1INCH', 'REEF', 'OG', 'ATM', 'ASR', 'CELO', 'RIF', 'BTCST', 'TRU', 'CKB', 'TWT', 'FIRO', 'LIT', 'SFP', 'DODO', 'CAKE', 'ACM', 'BADGER', 'FIS', 'OM', 'POND', 'DEGO', 'ALICE', 'LINA', 'PERP', 'RAMP', 'SUPER', 'CFX', 'EPS', 'AUTO', 'TKO', 'PUNDIX', 'TLM', '1INCHUP', '1INCHDOWN', 'BTG', 'MIR', 'BAR', 'FORTH', 'BAKE', 'BURGER', 'SLP', 'SHIB', 'ICP', 'USDT', 'AR', 'POLS', 'MDX', 'MASK')\n",
    "#new_symbols = ['BTC', 'ETH', 'BNB', 'BCC', 'NEO', 'LTC', 'QTUM', 'ADA', 'XRP', 'EOS', 'TUSD', 'IOTA', 'XLM', 'ONT', 'TRX', 'ETC', 'ICX', 'VEN', 'NULS', 'VET', 'PAX', 'BCHABC', 'BCHSV', 'USDC', 'LINK', 'WAVES', 'BTT', 'USDS', 'ONG', 'HOT', 'ZIL', 'ZRX', 'FET', 'BAT', 'XMR', 'ZEC', 'IOST', 'CELR', 'DASH', 'NANO', 'OMG', 'THETA', 'ENJ', 'MITH', 'MATIC', 'ATOM', 'TFUEL', 'ONE', 'FTM', 'ALGO', 'USDSB', 'GTO', 'ERD', 'DOGE', 'DUSK', 'ANKR', 'WIN', 'COS', 'NPXS', 'COCOS', 'MTL', 'TOMO', 'PERL', 'DENT', 'MFT', 'KEY', 'STORM', 'DOCK', 'WAN', 'FUN', 'CVC', 'CHZ', 'BAND', 'BUSD', 'BEAM', 'XTZ', 'REN', 'RVN', 'HC', 'HBAR', 'NKN', 'STX', 'KAVA', 'ARPA', 'IOTX', 'RLC', 'MCO', 'CTXC', 'BCH', 'TROY', 'VITE', 'FTT', 'BUS', 'USD', 'USD', 'EUR', 'OGN', 'DREP', 'BULL', 'BEAR', 'ETHBULL', 'ETHBEAR', 'TCT', 'WRX', 'BTS', 'LSK', 'BNT', 'LTO', 'EOSBULL', 'EOSBEAR', 'XRPBULL', 'XRPBEAR', 'STRAT', 'AION', 'MBL', 'COTI', 'BNBBULL', 'BNBBEAR', 'STPT', 'USD', 'WTC', 'DATA', 'XZC', 'SOL', 'USDT', 'CTSI', 'HIVE', 'CHR', 'BTCUP', 'BTCDOWN', 'GXS', 'ARDR', 'LEND', 'MDT', 'STMX', 'KNC', 'REP', 'LRC', 'PNT', 'USD', 'COMP', 'USDT', 'BKRW', 'SC', 'ZEN', 'SNX', 'ETHUP', 'ETHDOWN', 'ADAUP', 'ADADOWN', 'LINKUP', 'LINKDOWN', 'VTHO', 'DGB', 'GBP', 'SXP', 'MKR', 'DAI', 'DCR', 'STORJ', 'BNBUP', 'BNBDOWN', 'XTZUP', 'XTZDOWN', 'USDT', 'MANA', 'AUD', 'YFI', 'BAL', 'BLZ', 'IRIS', 'KMD', 'USD', 'JST', 'SRM', 'ANT', 'CRV', 'SAND', 'OCEAN', 'NMR', 'DOT', 'LUNA', 'RSR', 'PAXG', 'WNXM', 'TRB', 'BZRX', 'SUSHI', 'YFII', 'KSM', 'EGLD', 'DIA', 'RUNE', 'FIO', 'UMA', 'EOSUP', 'EOSDOWN', 'TRXUP', 'TRXDOWN', 'XRPUP', 'XRPDOWN', 'DOTUP', 'DOTDOWN', 'USD', 'BEL', 'WING', 'LTCUP', 'LTCDOWN', 'UNI', 'NBS', 'OXT', 'SUN', 'AVAX', 'HNT', 'FLM', 'UNIUP', 'UNIDOWN', 'ORN', 'UTK', 'XVS', 'ALPHA', 'USD', 'AAVE', 'NEAR', 'SXPUP', 'SXPDOWN', 'FIL', 'FILUP', 'FILDOWN', 'YFIUP', 'YFIDOWN', 'INJ', 'AUDIO', 'CTK', 'BCHUP', 'BCHDOWN', 'AKRO', 'AXS', 'HARD', 'DNT', 'STRAX', 'UNFI', 'ROSE', 'AVA', 'XEM', 'AAVEUP', 'AAVEDOWN', 'SKL', 'SUSD', 'SUSHIUP', 'SUSHIDOWN', 'XLMUP', 'XLMDOWN', 'GRT', 'JUV', 'PSG', 'USDT', '1INCH', 'REEF', 'OG', 'ATM', 'ASR', 'CELO', 'RIF', 'BTCST', 'TRU', 'CKB', 'TWT', 'FIRO', 'LIT', 'SFP', 'DODO', 'CAKE', 'ACM', 'BADGER', 'FIS', 'OM', 'POND', 'DEGO', 'ALICE', 'LINA', 'PERP', 'RAMP', 'SUPER', 'CFX', 'EPS', 'AUTO', 'TKO', 'PUNDIX', 'TLM', '1INCHUP', '1INCHDOWN', 'BTG', 'MIR', 'BAR', 'FORTH', 'BAKE', 'BURGER', 'SLP', 'SHIB', 'ICP', 'USDT', 'AR', 'POLS', 'MDX', 'MASK']"
   ]
  },
  {
   "cell_type": "code",
   "execution_count": 13,
   "id": "af6f9082",
   "metadata": {},
   "outputs": [],
   "source": [
    "symbols_in_db = [('MDT',), ('DEGO',), ('TROY',), ('REP',), ('THETA',), ('TFUEL',), ('BAKE',), ('EPS',), ('XRPBULL',), ('LTC',), ('STRAT',), ('ETHBEAR',), ('POLS',), ('WAN',), ('ETH',), ('LTO',), ('BTT',), ('MATIC',), ('NULS',), ('HIVE',), ('XZC',), ('ONT',), ('AION',), ('ICX',), ('CTSI',), ('BTG',), ('TKO',), ('MFT',), ('SLP',), ('KMD',), ('VEN',), ('EOSBULL',), ('BNBBEAR',), ('VET',), ('AR',), ('YFII',), ('TRX',), ('TOMO',), ('MBL',), ('LEND',), ('DOCK',), ('NEO',), ('DODO',), ('ONG',), ('GXS',), ('STX',), ('IOTX',), ('EOS',), ('ATOM',), ('CTXC',), ('KAVA',), ('LINA',), ('ADA',), ('BAT',), ('ETHBULL',), ('QTUM',), ('SAND',), ('XTZ',), ('SHIB',), ('NBS',), ('ASR',), ('FLM',), ('NKN',), ('PNT',), ('OMG',), ('ONE',), ('NEAR',), ('MITH',), ('ANKR',), ('DASH',), ('BKRW',), ('ARDR',), ('BULL',), ('ALICE',), ('USDT',), ('NPXS',), ('COS',), ('PAX',), ('ZIL',), ('AXS',), ('MTL',), ('HBAR',), ('BAND',), ('DCR',), ('RAMP',), ('AUTO',), ('VTHO',), ('OGN',), ('ZEC',), ('FUN',), ('CVC',), ('REN',), ('GBP',), ('WRX',), ('GTO',), ('KEY',), ('IOTA',), ('FET',), ('STPT',), ('BNT',), ('UMA',), ('COTI',), ('USDC',), ('TCT',), ('JST',), ('HOT',), ('LSK',), ('WIN',), ('ENJ',), ('FTT',), ('KNC',), ('RLC',), ('STORJ',), ('DREP',), ('BTC',), ('BZRX',), ('BTS',), ('VITE',), ('XRP',), ('STORM',), ('IOST',), ('USDS',), ('BUSD',), ('EOSBEAR',), ('NANO',), ('COCOS',), ('CELR',), ('MIR',), ('RVN',), ('SC',), ('DATA',), ('SNX',), ('MASK',), ('BCH',), ('PERL',), ('XRPBEAR',), ('BAR',), ('SUSHI',), ('XLM',), ('DUSK',), ('ETC',), ('HC',), ('TUSD',), ('BEAM',), ('JUV',), ('SOL',), ('ERD',), ('PERP',), ('BNB',), ('ALGO',), ('EUR',), ('WTC',), ('OM',), ('MCO',), ('ICP',), ('LINK',), ('DENT',), ('XMR',), ('DOGE',), ('FTM',), ('ARPA',)]"
   ]
  },
  {
   "cell_type": "code",
   "execution_count": 21,
   "id": "384b27ae",
   "metadata": {},
   "outputs": [],
   "source": [
    "symbols_in_db = [symbols[0] for symbols in symbols_in_db]"
   ]
  },
  {
   "cell_type": "code",
   "execution_count": 26,
   "id": "1b47e298",
   "metadata": {},
   "outputs": [],
   "source": [
    "new_symbols = []\n",
    "for i in current_symbols:\n",
    "    if i not in symbols_in_db:\n",
    "        new_symbols.append(i)"
   ]
  },
  {
   "cell_type": "code",
   "execution_count": null,
   "id": "2f197429",
   "metadata": {},
   "outputs": [],
   "source": []
  }
 ],
 "metadata": {
  "kernelspec": {
   "display_name": "Python 3",
   "language": "python",
   "name": "python3"
  },
  "language_info": {
   "codemirror_mode": {
    "name": "ipython",
    "version": 3
   },
   "file_extension": ".py",
   "mimetype": "text/x-python",
   "name": "python",
   "nbconvert_exporter": "python",
   "pygments_lexer": "ipython3",
   "version": "3.8.8"
  }
 },
 "nbformat": 4,
 "nbformat_minor": 5
}
