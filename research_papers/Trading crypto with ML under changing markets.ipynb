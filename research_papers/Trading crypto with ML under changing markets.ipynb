{
 "cells": [
  {
   "cell_type": "markdown",
   "id": "aecbf309",
   "metadata": {},
   "source": [
    "## Forecasting and trading cryptocurrencies with machine learning under changing market conditions\n",
    "https://jfin-swufe.springeropen.com/articles/10.1186/s40854-020-00217-x"
   ]
  },
  {
   "cell_type": "markdown",
   "id": "5682f0e0",
   "metadata": {},
   "source": [
    "#### - coins\n",
    "Bitcoin, ethereum, litecoin\n",
    "\n",
    "#### - regressors\n",
    "closing prices, high, low, daily trading volume, market capi (from coin market cap), 12 indicators of blockchain information (from https://coinmetrics.io/)\n",
    "\n",
    "Dependent variable: daily log return (closing price)"
   ]
  },
  {
   "cell_type": "code",
   "execution_count": null,
   "id": "50c6fb55",
   "metadata": {},
   "outputs": [],
   "source": []
  }
 ],
 "metadata": {
  "kernelspec": {
   "display_name": "Python 3",
   "language": "python",
   "name": "python3"
  },
  "language_info": {
   "codemirror_mode": {
    "name": "ipython",
    "version": 3
   },
   "file_extension": ".py",
   "mimetype": "text/x-python",
   "name": "python",
   "nbconvert_exporter": "python",
   "pygments_lexer": "ipython3",
   "version": "3.8.8"
  }
 },
 "nbformat": 4,
 "nbformat_minor": 5
}
