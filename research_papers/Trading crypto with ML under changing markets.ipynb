{
 "cells": [
  {
   "cell_type": "markdown",
   "id": "0a785aff",
   "metadata": {},
   "source": [
    "## Forecasting and trading cryptocurrencies with machine learning under changing market conditions\n",
    "https://jfin-swufe.springeropen.com/articles/10.1186/s40854-020-00217-x"
   ]
  },
  {
   "cell_type": "code",
   "execution_count": null,
   "id": "b597edf0",
   "metadata": {},
   "outputs": [],
   "source": [
    "#Bitcoin, ethereum, litecoin\n"
   ]
  }
 ],
 "metadata": {
  "kernelspec": {
   "display_name": "Python 3",
   "language": "python",
   "name": "python3"
  },
  "language_info": {
   "codemirror_mode": {
    "name": "ipython",
    "version": 3
   },
   "file_extension": ".py",
   "mimetype": "text/x-python",
   "name": "python",
   "nbconvert_exporter": "python",
   "pygments_lexer": "ipython3",
   "version": "3.8.8"
  }
 },
 "nbformat": 4,
 "nbformat_minor": 5
}
