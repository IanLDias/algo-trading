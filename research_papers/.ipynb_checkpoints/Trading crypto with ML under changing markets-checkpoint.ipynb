{
 "cells": [
  {
   "cell_type": "markdown",
   "id": "5a3b07ac",
   "metadata": {},
   "source": [
    "## Forecasting and trading cryptocurrencies with machine learning under changing market conditions\n",
    "https://jfin-swufe.springeropen.com/articles/10.1186/s40854-020-00217-x"
   ]
  },
  {
   "cell_type": "markdown",
   "id": "9bb296df",
   "metadata": {},
   "source": [
    "#### - coins\n",
    "Bitcoin, ethereum, litecoin\n",
    "\n",
    "#### - regressors\n",
    "closing prices, high, low, daily trading volume, market capi (from coin market cap), 12 indicators of blockchain information (from https://coinmetrics.io/)"
   ]
  },
  {
   "cell_type": "code",
   "execution_count": null,
   "id": "42b95208",
   "metadata": {},
   "outputs": [],
   "source": []
  }
 ],
 "metadata": {
  "kernelspec": {
   "display_name": "Python 3",
   "language": "python",
   "name": "python3"
  },
  "language_info": {
   "codemirror_mode": {
    "name": "ipython",
    "version": 3
   },
   "file_extension": ".py",
   "mimetype": "text/x-python",
   "name": "python",
   "nbconvert_exporter": "python",
   "pygments_lexer": "ipython3",
   "version": "3.8.8"
  }
 },
 "nbformat": 4,
 "nbformat_minor": 5
}
