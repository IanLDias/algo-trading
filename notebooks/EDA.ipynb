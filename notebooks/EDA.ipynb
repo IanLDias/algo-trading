{
 "cells": [
  {
   "cell_type": "code",
   "execution_count": 1,
   "id": "de04cdce",
   "metadata": {},
   "outputs": [],
   "source": [
    "from selecting_data import get_data\n",
    "import pandas as pd\n",
    "from datetime import datetime\n",
    "import plotly.graph_objects as go"
   ]
  },
  {
   "cell_type": "code",
   "execution_count": 2,
   "id": "a3028f8f",
   "metadata": {},
   "outputs": [
    {
     "name": "stdout",
     "output_type": "stream",
     "text": [
      "Finding data for: 'BTC', 'ETH', 'ADA', 'DOGE', 'FUN'\n"
     ]
    }
   ],
   "source": [
    "tickers = ['BTC', 'ETH', 'ADA', 'DOGE', 'FUN']\n",
    "data = get_data(tickers)\n",
    "\n",
    "df = pd.DataFrame(data, columns = ['id', 'symbol', 'date', 'high', 'low', 'open', 'close', 'volumeto', 'volumefor'])\n",
    "df = df.drop('id', axis=1)\n",
    "df = df.drop_duplicates()"
   ]
  },
  {
   "cell_type": "code",
   "execution_count": 3,
   "id": "317d8576",
   "metadata": {},
   "outputs": [],
   "source": [
    "# Helper functions\n",
    "def convert_unix_to_datetime(date_col):\n",
    "    'Converts the unix dates into YYYY-MM-DD'\n",
    "    int_list = list((map(int,date_col)))\n",
    "    date_list = list(map(datetime.utcfromtimestamp, int_list))\n",
    "    converted_dates = [date_list[i].strftime('%Y-%m-%d') for i in range(len(date_list))]\n",
    "    return converted_dates\n",
    "\n",
    "def plot_crypto(symbol):\n",
    "    'Plot the graph given a symbol name'\n",
    "    df_symbol = df[df['symbol'] == f'{symbol}']\n",
    "    fig = go.Figure(data=go.Ohlc(x=df_symbol['date'],\n",
    "                        open=df_symbol['open'],\n",
    "                        high=df_symbol['high'],\n",
    "                        low=df_symbol['low'],\n",
    "                        close=df_symbol['close']))\n",
    "    fig.update_layout(\n",
    "    title=f'{symbol} currency')\n",
    "    return fig.show()\n",
    "\n",
    "def get_coin(symbol, df=df):\n",
    "    return df[df['symbol'] == symbol]\n",
    "eth = get_coin('ETH')\n",
    "\n",
    "date_column = convert_unix_to_datetime(df['date'])\n",
    "df['date'] = date_column"
   ]
  }
 ],
 "metadata": {
  "kernelspec": {
   "display_name": "Python 3",
   "language": "python",
   "name": "python3"
  },
  "language_info": {
   "codemirror_mode": {
    "name": "ipython",
    "version": 3
   },
   "file_extension": ".py",
   "mimetype": "text/x-python",
   "name": "python",
   "nbconvert_exporter": "python",
   "pygments_lexer": "ipython3",
   "version": "3.8.8"
  }
 },
 "nbformat": 4,
 "nbformat_minor": 5
}
