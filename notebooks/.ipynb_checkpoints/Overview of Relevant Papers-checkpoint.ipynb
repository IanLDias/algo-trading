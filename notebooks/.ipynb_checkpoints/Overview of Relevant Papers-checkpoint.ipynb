{
 "cells": [
  {
   "cell_type": "markdown",
   "id": "63a72bae",
   "metadata": {},
   "source": [
    "## Interesing Journal Articles and their implementations"
   ]
  },
  {
   "cell_type": "markdown",
   "id": "da038bfe",
   "metadata": {},
   "source": [
    "#### Forecasting and trading cryptocurrencies with machine learning under changing market conditions\n",
    "https://jfin-swufe.springeropen.com/articles/10.1186/s40854-020-00217-x"
   ]
  },
  {
   "cell_type": "code",
   "execution_count": null,
   "id": "434657bf",
   "metadata": {},
   "outputs": [],
   "source": []
  },
  {
   "cell_type": "markdown",
   "id": "bf7543f0",
   "metadata": {},
   "source": [
    "####  Cryptocurrency trading: a comprehensive survey\n",
    "\n",
    "https://arxiv.org/abs/2003.11352"
   ]
  },
  {
   "cell_type": "markdown",
   "id": "38015f0a",
   "metadata": {},
   "source": [
    "#### The most interesting studies from the table\n",
    "\n",
    "https://www.hindawi.com/journals/complexity/2018/8983590/\n",
    "\n",
    "https://www.sciencedirect.com/science/article/abs/pii/S037722171930075X?via%3Dihub\n",
    "\n",
    "https://www.mdpi.com/2227-7390/7/10/898\n",
    "\n",
    "https://www.sciencedirect.com/science/article/abs/pii/S0960077918310233?via%3Dihub\n",
    "\n",
    "https://dl.acm.org/doi/10.1145/3308897.3308955\n",
    "\n",
    "https://www.sciencedirect.com/science/article/abs/pii/S037704271930398X?via%3Dihub\n",
    "\n",
    "https://doi.org/10.1016%2Fj.frl.2018.12.032"
   ]
  },
  {
   "cell_type": "markdown",
   "id": "8b488da9",
   "metadata": {},
   "source": [
    "![Table](table_summary_of_approaches.png)"
   ]
  },
  {
   "cell_type": "markdown",
   "id": "e4ede177",
   "metadata": {},
   "source": [
    "#### The technology and economic determinants of cryptocurrency exchange rates: The case of Bitcoin\n",
    "https://www.sciencedirect.com/science/article/abs/pii/S0167923616302111?via%3Dihub"
   ]
  },
  {
   "cell_type": "markdown",
   "id": "15e043ea",
   "metadata": {},
   "source": [
    "#### Predicting cryptocurrency price bubbles using social media data and epidemic modelling \n",
    "https://ieeexplore.ieee.org/document/8280809"
   ]
  },
  {
   "cell_type": "code",
   "execution_count": null,
   "id": "fea33562",
   "metadata": {},
   "outputs": [],
   "source": []
  }
 ],
 "metadata": {
  "kernelspec": {
   "display_name": "Python 3",
   "language": "python",
   "name": "python3"
  },
  "language_info": {
   "codemirror_mode": {
    "name": "ipython",
    "version": 3
   },
   "file_extension": ".py",
   "mimetype": "text/x-python",
   "name": "python",
   "nbconvert_exporter": "python",
   "pygments_lexer": "ipython3",
   "version": "3.8.8"
  }
 },
 "nbformat": 4,
 "nbformat_minor": 5
}
