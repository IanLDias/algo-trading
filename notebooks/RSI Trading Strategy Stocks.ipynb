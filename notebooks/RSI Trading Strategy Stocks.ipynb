{
 "cells": [
  {
   "cell_type": "markdown",
   "id": "99f29814",
   "metadata": {},
   "source": [
    "#### Buy decision\n",
    "- if 10-period RSI of the stock is below 30\n",
    "    - Buy on the next day's open\n",
    "    \n",
    "#### Sell decision\n",
    "- if 10-period RSI is above 40 OR after 10 trading days\n",
    "    - Sell on next days open"
   ]
  },
  {
   "cell_type": "code",
   "execution_count": 4,
   "id": "b01e9b1c",
   "metadata": {},
   "outputs": [],
   "source": [
    "import pandas as pd\n",
    "import yfinance as yf\n",
    "import matplotlib.pyplot as plt\n",
    "import backtrader as bt\n",
    "pd.options.mode.chained_assignment = None"
   ]
  },
  {
   "cell_type": "code",
   "execution_count": 263,
   "id": "26b51cf8",
   "metadata": {},
   "outputs": [],
   "source": [
    "tickers = pd.read_html('https://en.wikipedia.org/wiki/List_of_S%26P_500_companies')[0]\n",
    "tickers = tickers['Symbol'].to_list()\n",
    "tickers = [i.replace('.', '-') for i in tickers]"
   ]
  },
  {
   "cell_type": "code",
   "execution_count": 264,
   "id": "fab4e08d",
   "metadata": {},
   "outputs": [
    {
     "data": {
      "text/plain": [
       "'WU'"
      ]
     },
     "execution_count": 264,
     "metadata": {},
     "output_type": "execute_result"
    }
   ],
   "source": [
    "# Errors\n",
    "tickers.pop(474)\n",
    "tickers.pop(489)"
   ]
  },
  {
   "cell_type": "code",
   "execution_count": 369,
   "id": "dec88b1a",
   "metadata": {},
   "outputs": [],
   "source": [
    "def RSIcalc(ticker):\n",
    "    df = yf.download(ticker, start='2011-01-1')\n",
    "    df['MA200'] = df['Adj Close'].rolling(window=200).mean()\n",
    "    df['price change'] = df['Adj Close'].pct_change()\n",
    "    df['Upmove'] = df['price change'].apply(lambda x: x if x > 0 else 0)\n",
    "    df['Downmove'] = df['price change'].apply(lambda x: abs(x) if x < 0 else 0)\n",
    "    df['avg up'] = df['Upmove'].ewm(span=19).mean()\n",
    "    df['avg down'] = df['Downmove'].ewm(span=19).mean()\n",
    "    df = df.dropna()\n",
    "    df['RS'] = df['avg up'] / df['avg down']\n",
    "    df['RSI'] = df['RS'].apply(lambda x: 100 - (100/(x+1)))\n",
    "    df.loc[(df['Adj Close'] > df['MA200']) & (df['RSI'] < 30), 'Buy'] = '1'\n",
    "    df.loc[(df['Adj Close'] < df['MA200']) | (df['RSI'] > 30), 'Buy'] = '0'\n",
    "    return df"
   ]
  },
  {
   "cell_type": "code",
   "execution_count": null,
   "id": "e7578a97",
   "metadata": {},
   "outputs": [],
   "source": [
    "df = RSIcalc(tickers[0])\n",
    "df['Buy'] = pd.to_numeric(df['Buy'])"
   ]
  },
  {
   "cell_type": "code",
   "execution_count": 491,
   "id": "46651635",
   "metadata": {},
   "outputs": [],
   "source": [
    "def getSignals(df):\n",
    "    Buying_dates = []\n",
    "    Selling_dates = []\n",
    "    \n",
    "    for i in range(len(df) - 11):\n",
    "        if 1 in df.Buy.iloc[i]:\n",
    "            Buying_dates.append(df.iloc[i+1].name)\n",
    "            for j in range(1,11):\n",
    "                if df.RSI.iloc[i + j] > 40:\n",
    "                    Selling_dates.append(df.iloc[i+j+1].name)\n",
    "                    break\n",
    "                elif j == 10:\n",
    "                    Selling_dates.append(df.iloc[i+j+1].name)\n",
    "                    \n",
    "    return Buying_dates, Selling_dates"
   ]
  },
  {
   "cell_type": "code",
   "execution_count": null,
   "id": "684eefa5",
   "metadata": {},
   "outputs": [],
   "source": [
    "from backtrader.feeds import PandasData\n",
    "\n",
    "class PandasDivergence(PandasData):\n",
    "    lines = ('Adj Close', 'MA200',\n",
    "       'price change', 'Upmove', 'Downmove', 'avg up', 'avg down', 'RS', 'RSI',\n",
    "       'Buy')\n",
    "\n",
    "    # add the parameter to the parameters inherited from the base class\n",
    "    #  -1 : autodetect position or case-wise equal name\n",
    "    #  string : column name (as index) in the pandas dataframe\n",
    "    params = (('Adj Close', -1),\n",
    "              ('MA200', -1),\n",
    "              ('price change', -1),\n",
    "              ('Upmove', -1),\n",
    "             ('Downmove', -1),\n",
    "             ('avg up', -1),\n",
    "             ('avg down', -1),\n",
    "             ('RS', -1),\n",
    "             ('RSI', -1),\n",
    "             ('Buy', -1))"
   ]
  },
  {
   "cell_type": "code",
   "execution_count": 504,
   "id": "c2df1952",
   "metadata": {},
   "outputs": [
    {
     "data": {
      "text/html": [
       "<div>\n",
       "<style scoped>\n",
       "    .dataframe tbody tr th:only-of-type {\n",
       "        vertical-align: middle;\n",
       "    }\n",
       "\n",
       "    .dataframe tbody tr th {\n",
       "        vertical-align: top;\n",
       "    }\n",
       "\n",
       "    .dataframe thead th {\n",
       "        text-align: right;\n",
       "    }\n",
       "</style>\n",
       "<table border=\"1\" class=\"dataframe\">\n",
       "  <thead>\n",
       "    <tr style=\"text-align: right;\">\n",
       "      <th></th>\n",
       "      <th>Open</th>\n",
       "      <th>High</th>\n",
       "      <th>Low</th>\n",
       "      <th>Close</th>\n",
       "      <th>Adj Close</th>\n",
       "      <th>Volume</th>\n",
       "      <th>MA200</th>\n",
       "      <th>price change</th>\n",
       "      <th>Upmove</th>\n",
       "      <th>Downmove</th>\n",
       "      <th>avg up</th>\n",
       "      <th>avg down</th>\n",
       "      <th>RS</th>\n",
       "      <th>RSI</th>\n",
       "      <th>Buy</th>\n",
       "    </tr>\n",
       "    <tr>\n",
       "      <th>Date</th>\n",
       "      <th></th>\n",
       "      <th></th>\n",
       "      <th></th>\n",
       "      <th></th>\n",
       "      <th></th>\n",
       "      <th></th>\n",
       "      <th></th>\n",
       "      <th></th>\n",
       "      <th></th>\n",
       "      <th></th>\n",
       "      <th></th>\n",
       "      <th></th>\n",
       "      <th></th>\n",
       "      <th></th>\n",
       "      <th></th>\n",
       "    </tr>\n",
       "  </thead>\n",
       "  <tbody>\n",
       "    <tr>\n",
       "      <th>2011-10-14</th>\n",
       "      <td>78.940002</td>\n",
       "      <td>79.230003</td>\n",
       "      <td>78.120003</td>\n",
       "      <td>78.889999</td>\n",
       "      <td>60.409805</td>\n",
       "      <td>2840800</td>\n",
       "      <td>67.103449</td>\n",
       "      <td>0.014011</td>\n",
       "      <td>0.014011</td>\n",
       "      <td>0.000000</td>\n",
       "      <td>0.011144</td>\n",
       "      <td>0.006978</td>\n",
       "      <td>1.596943</td>\n",
       "      <td>61.493185</td>\n",
       "      <td>0</td>\n",
       "    </tr>\n",
       "    <tr>\n",
       "      <th>2011-10-17</th>\n",
       "      <td>78.629997</td>\n",
       "      <td>79.050003</td>\n",
       "      <td>75.660004</td>\n",
       "      <td>75.879997</td>\n",
       "      <td>58.104897</td>\n",
       "      <td>4359500</td>\n",
       "      <td>67.069641</td>\n",
       "      <td>-0.038155</td>\n",
       "      <td>0.000000</td>\n",
       "      <td>0.038155</td>\n",
       "      <td>0.010029</td>\n",
       "      <td>0.010096</td>\n",
       "      <td>0.993422</td>\n",
       "      <td>49.835013</td>\n",
       "      <td>0</td>\n",
       "    </tr>\n",
       "    <tr>\n",
       "      <th>2011-10-18</th>\n",
       "      <td>76.180000</td>\n",
       "      <td>79.150002</td>\n",
       "      <td>75.709999</td>\n",
       "      <td>78.360001</td>\n",
       "      <td>60.003960</td>\n",
       "      <td>4167200</td>\n",
       "      <td>67.043486</td>\n",
       "      <td>0.032683</td>\n",
       "      <td>0.032683</td>\n",
       "      <td>0.000000</td>\n",
       "      <td>0.012295</td>\n",
       "      <td>0.009086</td>\n",
       "      <td>1.353122</td>\n",
       "      <td>57.503273</td>\n",
       "      <td>0</td>\n",
       "    </tr>\n",
       "    <tr>\n",
       "      <th>2011-10-19</th>\n",
       "      <td>78.260002</td>\n",
       "      <td>78.860001</td>\n",
       "      <td>77.269997</td>\n",
       "      <td>77.699997</td>\n",
       "      <td>59.498554</td>\n",
       "      <td>3865000</td>\n",
       "      <td>67.015254</td>\n",
       "      <td>-0.008423</td>\n",
       "      <td>0.000000</td>\n",
       "      <td>0.008423</td>\n",
       "      <td>0.011065</td>\n",
       "      <td>0.009020</td>\n",
       "      <td>1.226767</td>\n",
       "      <td>55.091845</td>\n",
       "      <td>0</td>\n",
       "    </tr>\n",
       "    <tr>\n",
       "      <th>2011-10-20</th>\n",
       "      <td>77.769997</td>\n",
       "      <td>79.059998</td>\n",
       "      <td>77.110001</td>\n",
       "      <td>78.680000</td>\n",
       "      <td>60.248985</td>\n",
       "      <td>4087300</td>\n",
       "      <td>66.990775</td>\n",
       "      <td>0.012613</td>\n",
       "      <td>0.012613</td>\n",
       "      <td>0.000000</td>\n",
       "      <td>0.011220</td>\n",
       "      <td>0.008118</td>\n",
       "      <td>1.382134</td>\n",
       "      <td>58.020832</td>\n",
       "      <td>0</td>\n",
       "    </tr>\n",
       "  </tbody>\n",
       "</table>\n",
       "</div>"
      ],
      "text/plain": [
       "                 Open       High        Low      Close  Adj Close   Volume  \\\n",
       "Date                                                                         \n",
       "2011-10-14  78.940002  79.230003  78.120003  78.889999  60.409805  2840800   \n",
       "2011-10-17  78.629997  79.050003  75.660004  75.879997  58.104897  4359500   \n",
       "2011-10-18  76.180000  79.150002  75.709999  78.360001  60.003960  4167200   \n",
       "2011-10-19  78.260002  78.860001  77.269997  77.699997  59.498554  3865000   \n",
       "2011-10-20  77.769997  79.059998  77.110001  78.680000  60.248985  4087300   \n",
       "\n",
       "                MA200  price change    Upmove  Downmove    avg up  avg down  \\\n",
       "Date                                                                          \n",
       "2011-10-14  67.103449      0.014011  0.014011  0.000000  0.011144  0.006978   \n",
       "2011-10-17  67.069641     -0.038155  0.000000  0.038155  0.010029  0.010096   \n",
       "2011-10-18  67.043486      0.032683  0.032683  0.000000  0.012295  0.009086   \n",
       "2011-10-19  67.015254     -0.008423  0.000000  0.008423  0.011065  0.009020   \n",
       "2011-10-20  66.990775      0.012613  0.012613  0.000000  0.011220  0.008118   \n",
       "\n",
       "                  RS        RSI  Buy  \n",
       "Date                                  \n",
       "2011-10-14  1.596943  61.493185    0  \n",
       "2011-10-17  0.993422  49.835013    0  \n",
       "2011-10-18  1.353122  57.503273    0  \n",
       "2011-10-19  1.226767  55.091845    0  \n",
       "2011-10-20  1.382134  58.020832    0  "
      ]
     },
     "execution_count": 504,
     "metadata": {},
     "output_type": "execute_result"
    }
   ],
   "source": [
    "df.head()"
   ]
  },
  {
   "cell_type": "code",
   "execution_count": 501,
   "id": "68d0e641",
   "metadata": {},
   "outputs": [],
   "source": [
    "Buying_dates = []\n",
    "Selling_dates = []\n",
    "for i in range(len(df) - 11):\n",
    "    if df.Buy.iloc[i] == 1:\n",
    "        Buying_dates.append(df.iloc[i+1].name)\n",
    "        for j in range(1,11):\n",
    "            if df.RSI.iloc[i + j] > 40:\n",
    "                Selling_dates.append(df.iloc[i+j+1].name)\n",
    "                break\n",
    "            elif j == 10:\n",
    "                Selling_dates.append(df.iloc[i+j+1].name)"
   ]
  },
  {
   "cell_type": "code",
   "execution_count": null,
   "id": "2f4106fc",
   "metadata": {},
   "outputs": [],
   "source": [
    "# If DF['Buy'] = 1: Buy\n",
    "# If 10 days pass OR df['RSI'][start + current] > 40: Sell"
   ]
  },
  {
   "cell_type": "code",
   "execution_count": 587,
   "id": "10ede68e",
   "metadata": {},
   "outputs": [],
   "source": [
    "class TestStrategy(bt.Strategy):\n",
    "    def log(self, txt, dt=None):\n",
    "        ''' Logging function for this strategy'''\n",
    "        dt = dt or self.datas[0].datetime.date(0)\n",
    "        print('%s, %s' % (dt.isoformat(), txt))\n",
    "\n",
    "    def __init__(self):\n",
    "        # Keep a reference to the \"close\" line in the data[0] dataseries\n",
    "        self.dataclose = self.datas[0].close\n",
    "        self.datarsi = self.datas[0].RSI\n",
    "        self.databuy= self.datas[0].Buy\n",
    "        self.date = self.datas[0].datetime.date()\n",
    "        #self.buydate, self.selldate = getSignals(self.datas[0])\n",
    "        pass\n",
    "\n",
    "    def notify_order(self, order):\n",
    "        if order.status in [order.Submitted, order.Accepted]:\n",
    "            # Buy/Sell order submitted/accepted to/by broker - Nothing to do\n",
    "            return\n",
    "\n",
    "        # Check if an order has been completed\n",
    "        # Attention: broker could reject order if not enough cash\n",
    "        if order.status in [order.Completed]:\n",
    "            if order.isbuy():\n",
    "                self.log('BUY EXECUTED, %.2f' % order.executed.price)\n",
    "            elif order.issell():\n",
    "                self.log('SELL EXECUTED, %.2f' % order.executed.price)\n",
    "\n",
    "            self.bar_executed = len(self)\n",
    "\n",
    "        elif order.status in [order.Canceled, order.Margin, order.Rejected]:\n",
    "            self.log('Order Canceled/Margin/Rejected')\n",
    "\n",
    "        # Write down: no pending order\n",
    "        self.order = None\n",
    "    def next(self):\n",
    "        # Buy if date in buy\n",
    "        current_date = self.datas[0].datetime.date()\n",
    "        if self.databuy[0] and not self.position:\n",
    "            self.log('BUY CREATE, %.2f' % self.dataclose[0])\n",
    "            self.order = self.buy()\n",
    "            self.buy_date = self.datas[0].datetime.date()\n",
    "            return\n",
    "        else:\n",
    "            # Currently selling after 10 days\n",
    "            if self.position and ((current_date - self.buy_date) >= datetime.timedelta(days=10)):\n",
    "                self.log('SELL CREATE, %.2f' % self.dataclose[0])\n",
    "                self.order = self.sell()\n",
    "                return\n",
    "        \n",
    "        \n",
    "        #print(self.datas[0])"
   ]
  },
  {
   "cell_type": "code",
   "execution_count": 588,
   "id": "0d85fe1e",
   "metadata": {},
   "outputs": [
    {
     "name": "stdout",
     "output_type": "stream",
     "text": [
      "Starting Portfolio Value: 10000.00\n",
      "2012-03-06, BUY CREATE, 84.95\n",
      "2012-03-07, BUY EXECUTED, 85.24\n",
      "2012-03-16, SELL CREATE, 89.56\n",
      "2012-03-19, SELL EXECUTED, 89.52\n",
      "2012-04-10, BUY CREATE, 84.58\n",
      "2012-04-11, BUY EXECUTED, 85.36\n",
      "2012-04-20, SELL CREATE, 87.48\n",
      "2012-04-23, SELL EXECUTED, 86.52\n",
      "2012-05-14, BUY CREATE, 85.83\n",
      "2012-05-15, BUY EXECUTED, 85.95\n",
      "2012-05-24, SELL CREATE, 84.98\n",
      "2012-05-25, SELL EXECUTED, 84.87\n",
      "2012-06-04, BUY CREATE, 82.62\n",
      "2012-06-05, BUY EXECUTED, 82.59\n",
      "2012-06-14, SELL CREATE, 86.86\n",
      "2012-06-15, SELL EXECUTED, 87.57\n",
      "2012-10-23, BUY CREATE, 88.73\n",
      "2012-10-24, BUY EXECUTED, 89.03\n",
      "2012-11-02, SELL CREATE, 88.97\n",
      "2012-11-05, SELL EXECUTED, 88.08\n",
      "2013-08-21, BUY CREATE, 113.42\n",
      "2013-08-22, BUY EXECUTED, 113.61\n",
      "2013-09-03, SELL CREATE, 113.22\n",
      "2013-09-04, SELL EXECUTED, 113.08\n",
      "2014-01-24, BUY CREATE, 130.22\n",
      "2014-01-27, BUY EXECUTED, 130.02\n",
      "2014-02-03, SELL CREATE, 123.90\n",
      "2014-02-04, SELL EXECUTED, 126.09\n",
      "2014-07-31, BUY CREATE, 140.89\n",
      "2014-08-01, BUY EXECUTED, 140.15\n",
      "2014-08-11, SELL CREATE, 140.58\n",
      "2014-08-12, SELL EXECUTED, 140.62\n",
      "2014-10-01, BUY CREATE, 139.18\n",
      "2014-10-02, BUY EXECUTED, 138.57\n",
      "2014-10-13, SELL CREATE, 132.90\n",
      "2014-10-14, SELL EXECUTED, 133.65\n",
      "2015-04-29, BUY CREATE, 156.97\n",
      "2015-04-30, BUY EXECUTED, 156.82\n",
      "2015-05-11, SELL CREATE, 159.90\n",
      "2015-05-12, SELL EXECUTED, 158.71\n",
      "2016-10-11, BUY CREATE, 169.68\n",
      "2016-10-12, BUY EXECUTED, 169.60\n",
      "2016-10-21, SELL CREATE, 169.50\n",
      "2016-10-24, SELL EXECUTED, 172.65\n",
      "2017-07-25, BUY CREATE, 199.39\n",
      "2017-07-26, BUY EXECUTED, 200.45\n",
      "2017-08-04, SELL CREATE, 207.65\n",
      "2017-08-07, SELL EXECUTED, 207.90\n",
      "2018-02-05, BUY CREATE, 231.44\n",
      "2018-02-06, BUY EXECUTED, 227.51\n",
      "2018-02-15, SELL CREATE, 234.87\n",
      "2018-02-16, SELL EXECUTED, 234.97\n",
      "2021-01-11, BUY CREATE, 165.20\n",
      "2021-01-12, BUY EXECUTED, 165.90\n",
      "2021-01-21, SELL CREATE, 170.67\n",
      "2021-01-22, SELL EXECUTED, 170.20\n",
      "Final Portfolio Value: 10198.65\n"
     ]
    }
   ],
   "source": [
    "cerebro = bt.Cerebro()\n",
    "cerebro = bt.Cerebro(stdstats=False)\n",
    "cerebro.addstrategy(TestStrategy)\n",
    "\n",
    "data = PandasDivergence(dataname=df)\n",
    "\n",
    "cerebro.adddata(data)\n",
    "\n",
    "cerebro.broker.setcash(10000.0)\n",
    "cerebro.addsizer(bt.sizers.FixedSize, stake=10)\n",
    "cerebro.broker.setcommission(commission=0.001)\n",
    "\n",
    "print('Starting Portfolio Value: %.2f' % cerebro.broker.getvalue())\n",
    "\n",
    "# Run over everything\n",
    "cerebro.run()\n",
    "\n",
    "# Print out the final result\n",
    "print('Final Portfolio Value: %.2f' % cerebro.broker.getvalue())"
   ]
  },
  {
   "cell_type": "code",
   "execution_count": 9,
   "id": "6d9222cb",
   "metadata": {},
   "outputs": [],
   "source": [
    "def getSignals(df):\n",
    "    Buying_dates = []\n",
    "    Selling_dates = []\n",
    "    \n",
    "    for i in range(len(df) - 11):\n",
    "        if \"Yes\" in df['Buy'].iloc[i]:\n",
    "            Buying_dates.append(df.iloc[i+1].name)\n",
    "            for j in range(1,11):\n",
    "                if df['RSI'].iloc[i + j] > 40:\n",
    "                    Selling_dates.append(df.iloc[i+j+1].name)\n",
    "                    break\n",
    "                elif j == 10:\n",
    "                    Selling_dates.append(df.iloc[i+j+1].name)\n",
    "                    \n",
    "    return Buying_dates, Selling_dates"
   ]
  },
  {
   "cell_type": "code",
   "execution_count": 10,
   "id": "abd2517d",
   "metadata": {},
   "outputs": [
    {
     "name": "stdout",
     "output_type": "stream",
     "text": [
      "[*********************100%***********************]  1 of 1 completed\n"
     ]
    }
   ],
   "source": [
    "frame = RSIcalc(tickers[0])\n",
    "buy, sell = getSignals(frame)"
   ]
  },
  {
   "cell_type": "code",
   "execution_count": 11,
   "id": "28bca4cd",
   "metadata": {},
   "outputs": [
    {
     "data": {
      "text/plain": [
       "[<matplotlib.lines.Line2D at 0x7f5e602a53d0>]"
      ]
     },
     "execution_count": 11,
     "metadata": {},
     "output_type": "execute_result"
    },
    {
     "data": {
      "image/png": "[encoded data removed]",
      "text/plain": [
       "<Figure size 864x360 with 1 Axes>"
      ]
     },
     "metadata": {
      "needs_background": "light"
     },
     "output_type": "display_data"
    }
   ],
   "source": [
    "plt.figure(figsize=(12,5))\n",
    "plt.scatter(frame.loc[buy].index, frame.loc[buy]['Adj Close'], marker='^', c='g')\n",
    "plt.plot(frame['Adj Close'], alpha=0.7)"
   ]
  },
  {
   "cell_type": "code",
   "execution_count": 12,
   "id": "edef2db3",
   "metadata": {},
   "outputs": [],
   "source": [
    "profits = (frame.loc[sell].Open.values - frame.loc[buy].Open.values) / frame.loc[buy].Open.values"
   ]
  },
  {
   "cell_type": "code",
   "execution_count": 13,
   "id": "b09cc3b8",
   "metadata": {},
   "outputs": [
    {
     "data": {
      "text/plain": [
       "array([ 0.01841858,  0.01323802, -0.0115183 , -0.01105814,  0.00212315,\n",
       "        0.01287556,  0.03632401,  0.02847867,  0.01033357,  0.01558087,\n",
       "        0.01012236, -0.00346098,  0.00108178, -0.00407378,  0.02345979,\n",
       "        0.01052883,  0.02759942,  0.00556546,  0.00556546,  0.01286469,\n",
       "        0.0062834 ,  0.01170129,  0.01861865,  0.01306246,  0.0130085 ,\n",
       "        0.01320242, -0.00076654,  0.00355307, -0.01841872,  0.01366927,\n",
       "        0.02033747,  0.01195283,  0.01595001,  0.00852711,  0.02154845,\n",
       "        0.00861573,  0.01892706])"
      ]
     },
     "execution_count": 13,
     "metadata": {},
     "output_type": "execute_result"
    }
   ],
   "source": [
    "profits"
   ]
  },
  {
   "cell_type": "code",
   "execution_count": 14,
   "id": "8ad04c14",
   "metadata": {},
   "outputs": [
    {
     "data": {
      "text/plain": [
       "0.8378378378378378"
      ]
     },
     "execution_count": 14,
     "metadata": {},
     "output_type": "execute_result"
    }
   ],
   "source": [
    "wins = [i for i in profits if i > 0]\n",
    "len(wins) / len(profits)"
   ]
  },
  {
   "cell_type": "code",
   "execution_count": 15,
   "id": "64892c8d",
   "metadata": {},
   "outputs": [],
   "source": [
    "class TestStrategy(bt.Strategy):\n",
    "\n",
    "    def log(self, txt, dt=None):\n",
    "        ''' Logging function for this strategy'''\n",
    "        dt = dt or self.datas[0].datetime.date(0)\n",
    "        print('%s, %s' % (dt.isoformat(), txt))\n",
    "\n",
    "    def __init__(self):\n",
    "        # Keep a reference to the \"close\" line in the data[0] dataseries\n",
    "        self.dataclose = self.datas[0].close\n",
    "\n",
    "    def next(self):\n",
    "        self.log('Close, %.2f' % self.dataclose[0])\n"
   ]
  },
  {
   "cell_type": "code",
   "execution_count": 16,
   "id": "88bbc02c",
   "metadata": {},
   "outputs": [
    {
     "name": "stdout",
     "output_type": "stream",
     "text": [
      "Starting Portfolio Value: 100000.00\n",
      "Final Portfolio Value: 100000.00\n"
     ]
    }
   ],
   "source": [
    "cerebro = bt.Cerebro()\n",
    "cerebro.broker.setcash(100000.0)\n",
    "\n",
    "print('Starting Portfolio Value: %.2f' % cerebro.broker.getvalue())\n",
    "\n",
    "cerebro.run()\n",
    "\n",
    "print('Final Portfolio Value: %.2f' % cerebro.broker.getvalue())"
   ]
  },
  {
   "cell_type": "code",
   "execution_count": 17,
   "id": "68d5a75a",
   "metadata": {
    "scrolled": true
   },
   "outputs": [
    {
     "name": "stdout",
     "output_type": "stream",
     "text": [
      "[*********************100%***********************]  1 of 1 completed\n",
      "[*********************100%***********************]  1 of 1 completed\n",
      "[*********************100%***********************]  1 of 1 completed\n",
      "[*********************100%***********************]  1 of 1 completed\n",
      "[*********************100%***********************]  1 of 1 completed\n",
      "[*********************100%***********************]  1 of 1 completed\n",
      "[*********************100%***********************]  1 of 1 completed\n",
      "[*********************100%***********************]  1 of 1 completed\n"
     ]
    },
    {
     "ename": "KeyboardInterrupt",
     "evalue": "",
     "output_type": "error",
     "traceback": [
      "\u001b[0;31m---------------------------------------------------------------------------\u001b[0m",
      "\u001b[0;31mKeyboardInterrupt\u001b[0m                         Traceback (most recent call last)",
      "\u001b[0;32m<ipython-input-17-d075ce82d496>\u001b[0m in \u001b[0;36m<module>\u001b[0;34m\u001b[0m\n\u001b[1;32m      3\u001b[0m \u001b[0;34m\u001b[0m\u001b[0m\n\u001b[1;32m      4\u001b[0m \u001b[0;32mfor\u001b[0m \u001b[0mi\u001b[0m \u001b[0;32min\u001b[0m \u001b[0mrange\u001b[0m\u001b[0;34m(\u001b[0m\u001b[0mlen\u001b[0m\u001b[0;34m(\u001b[0m\u001b[0mtickers\u001b[0m\u001b[0;34m)\u001b[0m\u001b[0;34m)\u001b[0m\u001b[0;34m:\u001b[0m\u001b[0;34m\u001b[0m\u001b[0;34m\u001b[0m\u001b[0m\n\u001b[0;32m----> 5\u001b[0;31m     \u001b[0mframe\u001b[0m \u001b[0;34m=\u001b[0m \u001b[0mRSIcalc\u001b[0m\u001b[0;34m(\u001b[0m\u001b[0mtickers\u001b[0m\u001b[0;34m[\u001b[0m\u001b[0mi\u001b[0m\u001b[0;34m]\u001b[0m\u001b[0;34m)\u001b[0m\u001b[0;34m\u001b[0m\u001b[0;34m\u001b[0m\u001b[0m\n\u001b[0m\u001b[1;32m      6\u001b[0m     \u001b[0mbuy\u001b[0m\u001b[0;34m,\u001b[0m \u001b[0msell\u001b[0m \u001b[0;34m=\u001b[0m \u001b[0mgetSignals\u001b[0m\u001b[0;34m(\u001b[0m\u001b[0mframe\u001b[0m\u001b[0;34m)\u001b[0m\u001b[0;34m\u001b[0m\u001b[0;34m\u001b[0m\u001b[0m\n\u001b[1;32m      7\u001b[0m     \u001b[0mprofits\u001b[0m \u001b[0;34m=\u001b[0m \u001b[0;34m(\u001b[0m\u001b[0mframe\u001b[0m\u001b[0;34m.\u001b[0m\u001b[0mloc\u001b[0m\u001b[0;34m[\u001b[0m\u001b[0msell\u001b[0m\u001b[0;34m]\u001b[0m\u001b[0;34m.\u001b[0m\u001b[0mOpen\u001b[0m\u001b[0;34m.\u001b[0m\u001b[0mvalues\u001b[0m \u001b[0;34m-\u001b[0m \u001b[0mframe\u001b[0m\u001b[0;34m.\u001b[0m\u001b[0mloc\u001b[0m\u001b[0;34m[\u001b[0m\u001b[0mbuy\u001b[0m\u001b[0;34m]\u001b[0m\u001b[0;34m.\u001b[0m\u001b[0mOpen\u001b[0m\u001b[0;34m.\u001b[0m\u001b[0mvalues\u001b[0m\u001b[0;34m)\u001b[0m \u001b[0;34m/\u001b[0m \u001b[0mframe\u001b[0m\u001b[0;34m.\u001b[0m\u001b[0mloc\u001b[0m\u001b[0;34m[\u001b[0m\u001b[0mbuy\u001b[0m\u001b[0;34m]\u001b[0m\u001b[0;34m.\u001b[0m\u001b[0mOpen\u001b[0m\u001b[0;34m.\u001b[0m\u001b[0mvalues\u001b[0m\u001b[0;34m\u001b[0m\u001b[0;34m\u001b[0m\u001b[0m\n",
      "\u001b[0;32m<ipython-input-7-051afdc63953>\u001b[0m in \u001b[0;36mRSIcalc\u001b[0;34m(asset)\u001b[0m\n\u001b[1;32m      1\u001b[0m \u001b[0;32mdef\u001b[0m \u001b[0mRSIcalc\u001b[0m\u001b[0;34m(\u001b[0m\u001b[0masset\u001b[0m\u001b[0;34m)\u001b[0m\u001b[0;34m:\u001b[0m\u001b[0;34m\u001b[0m\u001b[0;34m\u001b[0m\u001b[0m\n\u001b[0;32m----> 2\u001b[0;31m     \u001b[0mdf\u001b[0m \u001b[0;34m=\u001b[0m \u001b[0myf\u001b[0m\u001b[0;34m.\u001b[0m\u001b[0mdownload\u001b[0m\u001b[0;34m(\u001b[0m\u001b[0masset\u001b[0m\u001b[0;34m,\u001b[0m \u001b[0mstart\u001b[0m\u001b[0;34m=\u001b[0m\u001b[0;34m'2011-01-1'\u001b[0m\u001b[0;34m)\u001b[0m\u001b[0;34m\u001b[0m\u001b[0;34m\u001b[0m\u001b[0m\n\u001b[0m\u001b[1;32m      3\u001b[0m     \u001b[0mdf\u001b[0m\u001b[0;34m[\u001b[0m\u001b[0;34m'MA200'\u001b[0m\u001b[0;34m]\u001b[0m \u001b[0;34m=\u001b[0m \u001b[0mdf\u001b[0m\u001b[0;34m[\u001b[0m\u001b[0;34m'Adj Close'\u001b[0m\u001b[0;34m]\u001b[0m\u001b[0;34m.\u001b[0m\u001b[0mrolling\u001b[0m\u001b[0;34m(\u001b[0m\u001b[0mwindow\u001b[0m\u001b[0;34m=\u001b[0m\u001b[0;36m200\u001b[0m\u001b[0;34m)\u001b[0m\u001b[0;34m.\u001b[0m\u001b[0mmean\u001b[0m\u001b[0;34m(\u001b[0m\u001b[0;34m)\u001b[0m\u001b[0;34m\u001b[0m\u001b[0;34m\u001b[0m\u001b[0m\n\u001b[1;32m      4\u001b[0m     \u001b[0mdf\u001b[0m\u001b[0;34m[\u001b[0m\u001b[0;34m'price change'\u001b[0m\u001b[0;34m]\u001b[0m \u001b[0;34m=\u001b[0m \u001b[0mdf\u001b[0m\u001b[0;34m[\u001b[0m\u001b[0;34m'Adj Close'\u001b[0m\u001b[0;34m]\u001b[0m\u001b[0;34m.\u001b[0m\u001b[0mpct_change\u001b[0m\u001b[0;34m(\u001b[0m\u001b[0;34m)\u001b[0m\u001b[0;34m\u001b[0m\u001b[0;34m\u001b[0m\u001b[0m\n\u001b[1;32m      5\u001b[0m     \u001b[0mdf\u001b[0m\u001b[0;34m[\u001b[0m\u001b[0;34m'Upmove'\u001b[0m\u001b[0;34m]\u001b[0m \u001b[0;34m=\u001b[0m \u001b[0mdf\u001b[0m\u001b[0;34m[\u001b[0m\u001b[0;34m'price change'\u001b[0m\u001b[0;34m]\u001b[0m\u001b[0;34m.\u001b[0m\u001b[0mapply\u001b[0m\u001b[0;34m(\u001b[0m\u001b[0;32mlambda\u001b[0m \u001b[0mx\u001b[0m\u001b[0;34m:\u001b[0m \u001b[0mx\u001b[0m \u001b[0;32mif\u001b[0m \u001b[0mx\u001b[0m \u001b[0;34m>\u001b[0m \u001b[0;36m0\u001b[0m \u001b[0;32melse\u001b[0m \u001b[0;36m0\u001b[0m\u001b[0;34m)\u001b[0m\u001b[0;34m\u001b[0m\u001b[0;34m\u001b[0m\u001b[0m\n",
      "\u001b[0;32m~/anaconda3/lib/python3.8/site-packages/yfinance/multi.py\u001b[0m in \u001b[0;36mdownload\u001b[0;34m(tickers, start, end, actions, threads, group_by, auto_adjust, back_adjust, progress, period, interval, prepost, proxy, rounding, **kwargs)\u001b[0m\n\u001b[1;32m     93\u001b[0m                                    rounding=rounding)\n\u001b[1;32m     94\u001b[0m         \u001b[0;32mwhile\u001b[0m \u001b[0mlen\u001b[0m\u001b[0;34m(\u001b[0m\u001b[0mshared\u001b[0m\u001b[0;34m.\u001b[0m\u001b[0m_DFS\u001b[0m\u001b[0;34m)\u001b[0m \u001b[0;34m<\u001b[0m \u001b[0mlen\u001b[0m\u001b[0;34m(\u001b[0m\u001b[0mtickers\u001b[0m\u001b[0;34m)\u001b[0m\u001b[0;34m:\u001b[0m\u001b[0;34m\u001b[0m\u001b[0;34m\u001b[0m\u001b[0m\n\u001b[0;32m---> 95\u001b[0;31m             \u001b[0m_time\u001b[0m\u001b[0;34m.\u001b[0m\u001b[0msleep\u001b[0m\u001b[0;34m(\u001b[0m\u001b[0;36m0.01\u001b[0m\u001b[0;34m)\u001b[0m\u001b[0;34m\u001b[0m\u001b[0;34m\u001b[0m\u001b[0m\n\u001b[0m\u001b[1;32m     96\u001b[0m \u001b[0;34m\u001b[0m\u001b[0m\n\u001b[1;32m     97\u001b[0m     \u001b[0;31m# download synchronously\u001b[0m\u001b[0;34m\u001b[0m\u001b[0;34m\u001b[0m\u001b[0;34m\u001b[0m\u001b[0m\n",
      "\u001b[0;31mKeyboardInterrupt\u001b[0m: "
     ]
    }
   ],
   "source": [
    "matrixsignals = []\n",
    "matrixprofits = []\n",
    "\n",
    "for i in range(len(tickers)):\n",
    "    frame = RSIcalc(tickers[i])\n",
    "    buy, sell = getSignals(frame)\n",
    "    profits = (frame.loc[sell].Open.values - frame.loc[buy].Open.values) / frame.loc[buy].Open.values\n",
    "    matrixsignals.append(buy)\n",
    "    matrixprofits.append(profits)\n",
    "    "
   ]
  },
  {
   "cell_type": "code",
   "execution_count": null,
   "id": "cdf49152",
   "metadata": {},
   "outputs": [],
   "source": [
    "frame.loc[sell].head()"
   ]
  },
  {
   "cell_type": "code",
   "execution_count": null,
   "id": "0c07623e",
   "metadata": {},
   "outputs": [],
   "source": [
    "frame.loc[buy].head()"
   ]
  },
  {
   "cell_type": "code",
   "execution_count": null,
   "id": "026a26db",
   "metadata": {},
   "outputs": [],
   "source": [
    "allprofit = []\n",
    "\n",
    "for i in matrixprofits:\n",
    "    for e in i:\n",
    "        allprofit.append(e)"
   ]
  },
  {
   "cell_type": "code",
   "execution_count": null,
   "id": "96051a91",
   "metadata": {},
   "outputs": [],
   "source": [
    "wins = [i for i in allprofit if i > 0]"
   ]
  },
  {
   "cell_type": "code",
   "execution_count": null,
   "id": "7c8c4833",
   "metadata": {},
   "outputs": [],
   "source": [
    "len(wins) / len(allprofit)"
   ]
  },
  {
   "cell_type": "code",
   "execution_count": null,
   "id": "be059a82",
   "metadata": {},
   "outputs": [],
   "source": [
    "plt.hist(allprofit, bins=100)\n",
    "plt.show()"
   ]
  },
  {
   "cell_type": "code",
   "execution_count": null,
   "id": "554f8e73",
   "metadata": {},
   "outputs": [],
   "source": []
  }
 ],
 "metadata": {
  "kernelspec": {
   "display_name": "Python 3",
   "language": "python",
   "name": "python3"
  },
  "language_info": {
   "codemirror_mode": {
    "name": "ipython",
    "version": 3
   },
   "file_extension": ".py",
   "mimetype": "text/x-python",
   "name": "python",
   "nbconvert_exporter": "python",
   "pygments_lexer": "ipython3",
   "version": "3.8.8"
  }
 },
 "nbformat": 4,
 "nbformat_minor": 5
}
