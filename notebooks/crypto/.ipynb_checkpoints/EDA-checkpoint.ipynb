{
 "cells": [
  {
   "cell_type": "code",
   "execution_count": 170,
   "id": "de04cdce",
   "metadata": {},
   "outputs": [],
   "source": [
    "import pandas as pd\n",
    "from datetime import datetime\n",
    "import re\n",
    "import numpy as np\n",
    "import plotly.express as px\n",
    "\n",
    "from sklearn.model_selection import train_test_split\n",
    "from sklearn.model_selection import GridSearchCV\n",
    "from sklearn.ensemble import RandomForestClassifier, RandomForestRegressor\n",
    "from sklearn.linear_model import LinearRegression, LogisticRegression\n",
    "from sklearn.svm import SVC, SVR\n",
    "from sklearn.metrics import accuracy_score, precision_score, f1_score, recall_score\n",
    "from sklearn.metrics import mean_squared_error as MSE, mean_absolute_error as MAE\n",
    "\n",
    "from helper_funcs import get_data, convert_unix_to_datetime, separate_symbols\n",
    "from helper_funcs import model_pipeline, preprocess"
   ]
  },
  {
   "cell_type": "code",
   "execution_count": 171,
   "id": "a3028f8f",
   "metadata": {},
   "outputs": [
    {
     "name": "stdout",
     "output_type": "stream",
     "text": [
      "Finding data for: 'BTC', 'ETH', 'LTC'\n"
     ]
    }
   ],
   "source": [
    "tickers = ['BTC', 'ETH', 'LTC']\n",
    "data = get_data(tickers)\n",
    "\n",
    "df = pd.DataFrame(data, columns = ['id', 'symbol', 'date', 'high', 'low', 'open', 'close', 'volumeto', 'volumefor'])\n",
    "df = df.drop('id', axis=1)\n",
    "df['date'] = convert_unix_to_datetime(df['date'])\n",
    "btc, eth, ltc = separate_symbols(df)"
   ]
  },
  {
   "cell_type": "code",
   "execution_count": 172,
   "id": "1471001a",
   "metadata": {},
   "outputs": [
    {
     "data": {
      "text/html": [
       "<div>\n",
       "<style scoped>\n",
       "    .dataframe tbody tr th:only-of-type {\n",
       "        vertical-align: middle;\n",
       "    }\n",
       "\n",
       "    .dataframe tbody tr th {\n",
       "        vertical-align: top;\n",
       "    }\n",
       "\n",
       "    .dataframe thead th {\n",
       "        text-align: right;\n",
       "    }\n",
       "</style>\n",
       "<table border=\"1\" class=\"dataframe\">\n",
       "  <thead>\n",
       "    <tr style=\"text-align: right;\">\n",
       "      <th></th>\n",
       "      <th>symbol</th>\n",
       "      <th>date</th>\n",
       "      <th>high</th>\n",
       "      <th>low</th>\n",
       "      <th>open</th>\n",
       "      <th>close</th>\n",
       "      <th>volumeto</th>\n",
       "      <th>volumefor</th>\n",
       "    </tr>\n",
       "  </thead>\n",
       "  <tbody>\n",
       "    <tr>\n",
       "      <th>2002</th>\n",
       "      <td>BTC</td>\n",
       "      <td>2015-12-22</td>\n",
       "      <td>443.22</td>\n",
       "      <td>433.25</td>\n",
       "      <td>437.59</td>\n",
       "      <td>437.03</td>\n",
       "      <td>28845536.39</td>\n",
       "      <td>65785.54</td>\n",
       "    </tr>\n",
       "    <tr>\n",
       "      <th>2003</th>\n",
       "      <td>BTC</td>\n",
       "      <td>2015-12-23</td>\n",
       "      <td>444.78</td>\n",
       "      <td>434.28</td>\n",
       "      <td>437.03</td>\n",
       "      <td>442.43</td>\n",
       "      <td>27877349.10</td>\n",
       "      <td>63247.04</td>\n",
       "    </tr>\n",
       "    <tr>\n",
       "      <th>2004</th>\n",
       "      <td>BTC</td>\n",
       "      <td>2015-12-24</td>\n",
       "      <td>460.62</td>\n",
       "      <td>441.76</td>\n",
       "      <td>442.43</td>\n",
       "      <td>452.98</td>\n",
       "      <td>36096662.15</td>\n",
       "      <td>79604.01</td>\n",
       "    </tr>\n",
       "    <tr>\n",
       "      <th>2005</th>\n",
       "      <td>BTC</td>\n",
       "      <td>2015-12-25</td>\n",
       "      <td>457.44</td>\n",
       "      <td>449.52</td>\n",
       "      <td>452.98</td>\n",
       "      <td>454.05</td>\n",
       "      <td>19251958.85</td>\n",
       "      <td>42390.82</td>\n",
       "    </tr>\n",
       "    <tr>\n",
       "      <th>2006</th>\n",
       "      <td>BTC</td>\n",
       "      <td>2015-12-26</td>\n",
       "      <td>456.48</td>\n",
       "      <td>400.45</td>\n",
       "      <td>454.05</td>\n",
       "      <td>415.37</td>\n",
       "      <td>88564770.72</td>\n",
       "      <td>208582.27</td>\n",
       "    </tr>\n",
       "  </tbody>\n",
       "</table>\n",
       "</div>"
      ],
      "text/plain": [
       "     symbol        date    high     low    open   close     volumeto  \\\n",
       "2002    BTC  2015-12-22  443.22  433.25  437.59  437.03  28845536.39   \n",
       "2003    BTC  2015-12-23  444.78  434.28  437.03  442.43  27877349.10   \n",
       "2004    BTC  2015-12-24  460.62  441.76  442.43  452.98  36096662.15   \n",
       "2005    BTC  2015-12-25  457.44  449.52  452.98  454.05  19251958.85   \n",
       "2006    BTC  2015-12-26  456.48  400.45  454.05  415.37  88564770.72   \n",
       "\n",
       "      volumefor  \n",
       "2002   65785.54  \n",
       "2003   63247.04  \n",
       "2004   79604.01  \n",
       "2005   42390.82  \n",
       "2006  208582.27  "
      ]
     },
     "execution_count": 172,
     "metadata": {},
     "output_type": "execute_result"
    }
   ],
   "source": [
    "btc.head()"
   ]
  },
  {
   "cell_type": "code",
   "execution_count": 173,
   "id": "2b26723b",
   "metadata": {},
   "outputs": [
    {
     "name": "stderr",
     "output_type": "stream",
     "text": [
      "/home/ian/Desktop/algo-trading/notebooks/helper_funcs.py:120: SettingWithCopyWarning: \n",
      "A value is trying to be set on a copy of a slice from a DataFrame.\n",
      "Try using .loc[row_indexer,col_indexer] = value instead\n",
      "\n",
      "See the caveats in the documentation: https://pandas.pydata.org/pandas-docs/stable/user_guide/indexing.html#returning-a-view-versus-a-copy\n",
      "  df['close_lag'+str(i)] = lag_close_col\n",
      "/home/ian/Desktop/algo-trading/notebooks/helper_funcs.py:121: SettingWithCopyWarning: \n",
      "A value is trying to be set on a copy of a slice from a DataFrame.\n",
      "Try using .loc[row_indexer,col_indexer] = value instead\n",
      "\n",
      "See the caveats in the documentation: https://pandas.pydata.org/pandas-docs/stable/user_guide/indexing.html#returning-a-view-versus-a-copy\n",
      "  df['parkinson_lag'+str(i)] = lag_park_col\n"
     ]
    }
   ],
   "source": [
    "btc_process = preprocess(btc, 'BTC')\n",
    "btc_process = btc_process.dropna()"
   ]
  },
  {
   "cell_type": "code",
   "execution_count": 174,
   "id": "1204e032",
   "metadata": {},
   "outputs": [
    {
     "data": {
      "text/html": [
       "<div>\n",
       "<style scoped>\n",
       "    .dataframe tbody tr th:only-of-type {\n",
       "        vertical-align: middle;\n",
       "    }\n",
       "\n",
       "    .dataframe tbody tr th {\n",
       "        vertical-align: top;\n",
       "    }\n",
       "\n",
       "    .dataframe thead th {\n",
       "        text-align: right;\n",
       "    }\n",
       "</style>\n",
       "<table border=\"1\" class=\"dataframe\">\n",
       "  <thead>\n",
       "    <tr style=\"text-align: right;\">\n",
       "      <th></th>\n",
       "      <th>MAE</th>\n",
       "      <th>MSE</th>\n",
       "      <th>f1</th>\n",
       "      <th>precision</th>\n",
       "      <th>recall</th>\n",
       "      <th>accuracy</th>\n",
       "    </tr>\n",
       "  </thead>\n",
       "  <tbody>\n",
       "    <tr>\n",
       "      <th>LogisticRegression</th>\n",
       "      <td>NaN</td>\n",
       "      <td>NaN</td>\n",
       "      <td>0.690018</td>\n",
       "      <td>0.526738</td>\n",
       "      <td>1.0</td>\n",
       "      <td>0.526738</td>\n",
       "    </tr>\n",
       "    <tr>\n",
       "      <th>RandomForestClassifier</th>\n",
       "      <td>NaN</td>\n",
       "      <td>NaN</td>\n",
       "      <td>0.551532</td>\n",
       "      <td>0.611111</td>\n",
       "      <td>0.502538</td>\n",
       "      <td>0.569519</td>\n",
       "    </tr>\n",
       "    <tr>\n",
       "      <th>SVC</th>\n",
       "      <td>NaN</td>\n",
       "      <td>NaN</td>\n",
       "      <td>0.690018</td>\n",
       "      <td>0.526738</td>\n",
       "      <td>1.0</td>\n",
       "      <td>0.526738</td>\n",
       "    </tr>\n",
       "    <tr>\n",
       "      <th>EnsembleClf</th>\n",
       "      <td>NaN</td>\n",
       "      <td>NaN</td>\n",
       "      <td>0.690018</td>\n",
       "      <td>0.526738</td>\n",
       "      <td>1.0</td>\n",
       "      <td>0.526738</td>\n",
       "    </tr>\n",
       "    <tr>\n",
       "      <th>LinearRegression</th>\n",
       "      <td>0.025011</td>\n",
       "      <td>0.001359</td>\n",
       "      <td>NaN</td>\n",
       "      <td>NaN</td>\n",
       "      <td>NaN</td>\n",
       "      <td>NaN</td>\n",
       "    </tr>\n",
       "    <tr>\n",
       "      <th>RandomForestRegressor</th>\n",
       "      <td>0.031931</td>\n",
       "      <td>0.001834</td>\n",
       "      <td>NaN</td>\n",
       "      <td>NaN</td>\n",
       "      <td>NaN</td>\n",
       "      <td>NaN</td>\n",
       "    </tr>\n",
       "    <tr>\n",
       "      <th>SVR</th>\n",
       "      <td>0.763803</td>\n",
       "      <td>0.818071</td>\n",
       "      <td>NaN</td>\n",
       "      <td>NaN</td>\n",
       "      <td>NaN</td>\n",
       "      <td>NaN</td>\n",
       "    </tr>\n",
       "    <tr>\n",
       "      <th>EnsembleReg</th>\n",
       "      <td>0.257774</td>\n",
       "      <td>0.092883</td>\n",
       "      <td>NaN</td>\n",
       "      <td>NaN</td>\n",
       "      <td>NaN</td>\n",
       "      <td>NaN</td>\n",
       "    </tr>\n",
       "  </tbody>\n",
       "</table>\n",
       "</div>"
      ],
      "text/plain": [
       "                             MAE       MSE        f1 precision    recall  \\\n",
       "LogisticRegression           NaN       NaN  0.690018  0.526738       1.0   \n",
       "RandomForestClassifier       NaN       NaN  0.551532  0.611111  0.502538   \n",
       "SVC                          NaN       NaN  0.690018  0.526738       1.0   \n",
       "EnsembleClf                  NaN       NaN  0.690018  0.526738       1.0   \n",
       "LinearRegression        0.025011  0.001359       NaN       NaN       NaN   \n",
       "RandomForestRegressor   0.031931  0.001834       NaN       NaN       NaN   \n",
       "SVR                     0.763803  0.818071       NaN       NaN       NaN   \n",
       "EnsembleReg             0.257774  0.092883       NaN       NaN       NaN   \n",
       "\n",
       "                        accuracy  \n",
       "LogisticRegression      0.526738  \n",
       "RandomForestClassifier  0.569519  \n",
       "SVC                     0.526738  \n",
       "EnsembleClf             0.526738  \n",
       "LinearRegression             NaN  \n",
       "RandomForestRegressor        NaN  \n",
       "SVR                          NaN  \n",
       "EnsembleReg                  NaN  "
      ]
     },
     "execution_count": 174,
     "metadata": {},
     "output_type": "execute_result"
    }
   ],
   "source": [
    "model = model_pipeline(btc_process)\n",
    "btc_model = model.make_dataframe()\n",
    "btc_model"
   ]
  },
  {
   "cell_type": "code",
   "execution_count": 175,
   "id": "39dd90bc",
   "metadata": {},
   "outputs": [],
   "source": [
    "_, pred, _ = model.fit_model('RandomForestClassifier')"
   ]
  },
  {
   "cell_type": "code",
   "execution_count": 176,
   "id": "b81265d7",
   "metadata": {},
   "outputs": [
    {
     "data": {
      "text/plain": [
       "0.4117647058823529"
      ]
     },
     "execution_count": 176,
     "metadata": {},
     "output_type": "execute_result"
    }
   ],
   "source": [
    "sum(pred) / len(pred)"
   ]
  },
  {
   "cell_type": "code",
   "execution_count": 177,
   "id": "4b9fd085",
   "metadata": {},
   "outputs": [
    {
     "data": {
      "text/html": [
       "<div>\n",
       "<style scoped>\n",
       "    .dataframe tbody tr th:only-of-type {\n",
       "        vertical-align: middle;\n",
       "    }\n",
       "\n",
       "    .dataframe tbody tr th {\n",
       "        vertical-align: top;\n",
       "    }\n",
       "\n",
       "    .dataframe thead th {\n",
       "        text-align: right;\n",
       "    }\n",
       "</style>\n",
       "<table border=\"1\" class=\"dataframe\">\n",
       "  <thead>\n",
       "    <tr style=\"text-align: right;\">\n",
       "      <th></th>\n",
       "      <th>symbol</th>\n",
       "      <th>date</th>\n",
       "      <th>high</th>\n",
       "      <th>low</th>\n",
       "      <th>open</th>\n",
       "      <th>close</th>\n",
       "      <th>volumeto</th>\n",
       "      <th>volumefor</th>\n",
       "      <th>rel_price_change</th>\n",
       "      <th>parkinson_vol</th>\n",
       "    </tr>\n",
       "  </thead>\n",
       "  <tbody>\n",
       "    <tr>\n",
       "      <th>2002</th>\n",
       "      <td>BTC</td>\n",
       "      <td>2015-12-22</td>\n",
       "      <td>443.22</td>\n",
       "      <td>433.25</td>\n",
       "      <td>437.59</td>\n",
       "      <td>6.092282</td>\n",
       "      <td>28845536.39</td>\n",
       "      <td>65785.54</td>\n",
       "      <td>0.022750</td>\n",
       "      <td>0.009471</td>\n",
       "    </tr>\n",
       "    <tr>\n",
       "      <th>2003</th>\n",
       "      <td>BTC</td>\n",
       "      <td>2015-12-23</td>\n",
       "      <td>444.78</td>\n",
       "      <td>434.28</td>\n",
       "      <td>437.03</td>\n",
       "      <td>6.115848</td>\n",
       "      <td>27877349.10</td>\n",
       "      <td>63247.04</td>\n",
       "      <td>0.023889</td>\n",
       "      <td>0.009945</td>\n",
       "    </tr>\n",
       "    <tr>\n",
       "      <th>2004</th>\n",
       "      <td>BTC</td>\n",
       "      <td>2015-12-24</td>\n",
       "      <td>460.62</td>\n",
       "      <td>441.76</td>\n",
       "      <td>442.43</td>\n",
       "      <td>6.118207</td>\n",
       "      <td>36096662.15</td>\n",
       "      <td>79604.01</td>\n",
       "      <td>0.041801</td>\n",
       "      <td>0.017403</td>\n",
       "    </tr>\n",
       "    <tr>\n",
       "      <th>2005</th>\n",
       "      <td>BTC</td>\n",
       "      <td>2015-12-25</td>\n",
       "      <td>457.44</td>\n",
       "      <td>449.52</td>\n",
       "      <td>452.98</td>\n",
       "      <td>6.029170</td>\n",
       "      <td>19251958.85</td>\n",
       "      <td>42390.82</td>\n",
       "      <td>0.017465</td>\n",
       "      <td>0.007270</td>\n",
       "    </tr>\n",
       "    <tr>\n",
       "      <th>2006</th>\n",
       "      <td>BTC</td>\n",
       "      <td>2015-12-26</td>\n",
       "      <td>456.48</td>\n",
       "      <td>400.45</td>\n",
       "      <td>454.05</td>\n",
       "      <td>6.045929</td>\n",
       "      <td>88564770.72</td>\n",
       "      <td>208582.27</td>\n",
       "      <td>0.130769</td>\n",
       "      <td>0.054514</td>\n",
       "    </tr>\n",
       "  </tbody>\n",
       "</table>\n",
       "</div>"
      ],
      "text/plain": [
       "     symbol        date    high     low    open     close     volumeto  \\\n",
       "2002    BTC  2015-12-22  443.22  433.25  437.59  6.092282  28845536.39   \n",
       "2003    BTC  2015-12-23  444.78  434.28  437.03  6.115848  27877349.10   \n",
       "2004    BTC  2015-12-24  460.62  441.76  442.43  6.118207  36096662.15   \n",
       "2005    BTC  2015-12-25  457.44  449.52  452.98  6.029170  19251958.85   \n",
       "2006    BTC  2015-12-26  456.48  400.45  454.05  6.045929  88564770.72   \n",
       "\n",
       "      volumefor  rel_price_change  parkinson_vol  \n",
       "2002   65785.54          0.022750       0.009471  \n",
       "2003   63247.04          0.023889       0.009945  \n",
       "2004   79604.01          0.041801       0.017403  \n",
       "2005   42390.82          0.017465       0.007270  \n",
       "2006  208582.27          0.130769       0.054514  "
      ]
     },
     "execution_count": 177,
     "metadata": {},
     "output_type": "execute_result"
    }
   ],
   "source": [
    "btc.head()"
   ]
  },
  {
   "cell_type": "code",
   "execution_count": 178,
   "id": "d265b230",
   "metadata": {},
   "outputs": [],
   "source": [
    "import backtrader as bt\n",
    "import backtrader.analyzers as btanalyzers"
   ]
  },
  {
   "cell_type": "code",
   "execution_count": 76,
   "id": "4ffc5fe2",
   "metadata": {},
   "outputs": [],
   "source": [
    "class backtesting(bt.Strategy):\n",
    "    def __init__(self):\n",
    "        ma_fast = bt.ind.SMA(period = 10)\n",
    "        ma_slow = bt.ind.SMA(period = 50)\n",
    "        \n",
    "        self.crossover = bt.ind.CrossOver(ma_fast, ma_slow)\n",
    "        \n",
    "    \n",
    "    def next(self):\n",
    "        if not self.position:\n",
    "            if self.crossover > 0:\n",
    "                self.buy()\n",
    "        elif self.crossover < 0:\n",
    "            self.close()\n",
    "        "
   ]
  },
  {
   "cell_type": "code",
   "execution_count": 179,
   "id": "4bb62ae7",
   "metadata": {},
   "outputs": [],
   "source": [
    "\n",
    "btc.drop('symbol', axis=1, inplace=True)\n",
    "btc = btc.dropna()\n",
    "btc.set_index('date', inplace=True)"
   ]
  },
  {
   "cell_type": "code",
   "execution_count": 180,
   "id": "5e3833c8",
   "metadata": {},
   "outputs": [
    {
     "name": "stderr",
     "output_type": "stream",
     "text": [
      "/home/ian/anaconda3/lib/python3.8/site-packages/pandas/core/frame.py:4441: SettingWithCopyWarning: \n",
      "A value is trying to be set on a copy of a slice from a DataFrame\n",
      "\n",
      "See the caveats in the documentation: https://pandas.pydata.org/pandas-docs/stable/user_guide/indexing.html#returning-a-view-versus-a-copy\n",
      "  return super().rename(\n"
     ]
    }
   ],
   "source": [
    "btc_bt = btc[['open', 'high', 'low', 'close', 'volumeto']]\n",
    "btc_bt.rename(columns={'volumeto': 'volume'}, inplace=True)"
   ]
  },
  {
   "cell_type": "code",
   "execution_count": 196,
   "id": "2ba27e95",
   "metadata": {},
   "outputs": [],
   "source": [
    "pred = [int(x) for x in pred\n",
    "pred = pd.DataFrame(pred, index = btc_bt[-374:].index, columns=['predicted'])"
   ]
  },
  {
   "cell_type": "code",
   "execution_count": 198,
   "id": "fad455d9",
   "metadata": {},
   "outputs": [],
   "source": [
    "prices = pred.join(btc_bt[-374:])"
   ]
  },
  {
   "cell_type": "code",
   "execution_count": 205,
   "id": "2e9227bb",
   "metadata": {},
   "outputs": [],
   "source": [
    "prices.index = pd.to_datetime(prices.index)"
   ]
  },
  {
   "cell_type": "code",
   "execution_count": 207,
   "id": "6b3e3429",
   "metadata": {},
   "outputs": [],
   "source": [
    "OHLCV = ['open', 'high', 'low', 'close', 'volume']\n",
    "class SignalData(bt.feeds.PandasData):\n",
    "    \"\"\"\n",
    "    Define pandas DataFrame structure\n",
    "    \"\"\"\n",
    "    cols = OHLCV + ['predicted']\n",
    "    # create lines\n",
    "    lines = tuple(cols)\n",
    "    \n",
    "    # define parameters\n",
    "    params = {c: -1 for c in cols}\n",
    "    params.update({'datetime': None})\n",
    "    params = tuple(params.items())"
   ]
  },
  {
   "cell_type": "code",
   "execution_count": 222,
   "id": "a8c3cf8e",
   "metadata": {},
   "outputs": [],
   "source": [
    "# define backtesting strategy class\n",
    "class MLStrategy(bt.Strategy):\n",
    "    params = dict(\n",
    "    )\n",
    "    \n",
    "    def __init__(self):\n",
    "        # keep track of open, close prices and predicted value in the series\n",
    "        self.data_predicted = self.datas[0].predicted\n",
    "        self.data_open = self.datas[0].open\n",
    "        self.data_close = self.datas[0].close\n",
    "        \n",
    "        # keep track of pending orders/buy price/buy commission\n",
    "        self.order = None\n",
    "        self.price = None\n",
    "        self.comm = None    # logging function\n",
    "    def log(self, txt):\n",
    "        '''Logging function'''\n",
    "        dt = self.datas[0].datetime.date(0).isoformat()\n",
    "        print(f'{dt}, {txt}')    \n",
    "    \n",
    "    def notify_order(self, order):\n",
    "        if order.status in [order.Submitted, order.Accepted]:\n",
    "            # order already submitted/accepted - no action required\n",
    "            return        # report executed order\n",
    "        if order.status in [order.Completed]:\n",
    "            if order.isbuy():\n",
    "                self.log(f'BUY EXECUTED --- Price: {order.executed.price:.2f}, Cost: {order.executed.value:.2f},Commission: {order.executed.comm:.2f}'\n",
    "                )\n",
    "                self.price = order.executed.price\n",
    "                self.comm = order.executed.comm\n",
    "            else:\n",
    "                self.log(f'SELL EXECUTED --- Price: {order.executed.price:.2f}, Cost: {order.executed.value:.2f},Commission: {order.executed.comm:.2f}'\n",
    "                )        # report failed order\n",
    "        elif order.status in [order.Canceled, order.Margin, \n",
    "                              order.Rejected]:\n",
    "            self.log('Order Failed')        # set no pending order\n",
    "        self.order = None    \n",
    "        \n",
    "    def notify_trade(self, trade):\n",
    "        if not trade.isclosed:\n",
    "            return\n",
    "        \n",
    "        self.log(f'OPERATION RESULT --- Gross: {trade.pnl:.2f}, Net: {trade.pnlcomm:.2f}')    \n",
    "        # We have set cheat_on_open = True.This means that we calculated the signals on day t's close price, \n",
    "        # but calculated the number of shares we wanted to buy based on day t+1's open price.\n",
    "    \n",
    "    def next_open(self):\n",
    "        if not self.position:\n",
    "            if self.data_predicted > 0:\n",
    "                # calculate the max number of shares ('all-in')\n",
    "                size = int(self.broker.getcash() / self.datas[0].open) / 10\n",
    "                # buy order\n",
    "                self.log(f'BUY CREATED --- Size: {size}, Cash: {self.broker.getcash():.2f}, Open: {self.data_open[0]}, Close: {self.data_close[0]}')\n",
    "                self.buy(size=size)\n",
    "        else:\n",
    "            if self.data_predicted < 0:\n",
    "                # sell order\n",
    "                self.log(f'SELL CREATED --- Size: {self.position.size}')\n",
    "                self.sell(size=self.position.size)"
   ]
  },
  {
   "cell_type": "code",
   "execution_count": 223,
   "id": "9cacc526",
   "metadata": {},
   "outputs": [
    {
     "name": "stdout",
     "output_type": "stream",
     "text": [
      "Starting Portfolio Value: 100000.00\n",
      "2020-06-05, BUY CREATED --- Size: 1.0, Cash: 100000.00, Open: 9794.55, Close: 9.176934559470496\n",
      "2020-06-05, BUY EXECUTED --- Price: 9794.55, Cost: 9794.55,Commission: 9.79\n",
      "Final Portfolio Value: 90206.22\n"
     ]
    }
   ],
   "source": [
    "# instantiate SignalData class\n",
    "data = SignalData(dataname=prices)# instantiate Cerebro, add strategy, data, initial cash, commission and pyfolio for performance analysis\n",
    "cerebro = bt.Cerebro(stdstats = False, cheat_on_open=True)\n",
    "cerebro.addstrategy(MLStrategy)\n",
    "cerebro.adddata(data)\n",
    "cerebro.broker.setcash(100000.0)\n",
    "cerebro.broker.setcommission(commission=0.001)\n",
    "#cerebro.addanalyzer(bt.analyzers.PyFolio, _name='pyfolio')# run the backtest\n",
    "print('Starting Portfolio Value: %.2f' % cerebro.broker.getvalue())\n",
    "backtest_result = cerebro.run()\n",
    "print('Final Portfolio Value: %.2f' % cerebro.broker.getvalue())\n"
   ]
  },
  {
   "cell_type": "code",
   "execution_count": 82,
   "id": "e1710387",
   "metadata": {},
   "outputs": [
    {
     "data": {
      "text/plain": [
       "<backtrader.feeds.yahoo.YahooFinanceData at 0x7f366a87d640>"
      ]
     },
     "execution_count": 82,
     "metadata": {},
     "output_type": "execute_result"
    }
   ],
   "source": [
    "cerebro = bt.Cerebro()\n",
    "#data = bt.feeds.YahooFinanceData(dataname='AAPL', fromdate = datetime(2010, 1, 1), todate = datetime(2020, 1, 1))\n",
    "data = bt.feeds.PandasData(dataname=btc)\n",
    "cerebro.adddata(data)"
   ]
  },
  {
   "cell_type": "code",
   "execution_count": 83,
   "id": "60972d12",
   "metadata": {},
   "outputs": [],
   "source": [
    "cerebro.addstrategy(backtesting)\n",
    "cerebro.broker.setcash(1000.0)\n",
    "cerebro.addsizer(bt.sizers.PercentSizer, percents=10)"
   ]
  },
  {
   "cell_type": "code",
   "execution_count": 84,
   "id": "e588fb7e",
   "metadata": {},
   "outputs": [],
   "source": [
    "cerebro.addanalyzer(btanalyzers.SharpeRatio, _name = \"sharpe\")\n",
    "cerebro.addanalyzer(btanalyzers.Transactions, _name = \"transactions\")\n",
    "cerebro.addanalyzer(btanalyzers.TradeAnalyzer, _name = \"trades\")"
   ]
  },
  {
   "cell_type": "code",
   "execution_count": 85,
   "id": "97e436af",
   "metadata": {},
   "outputs": [],
   "source": [
    "back = cerebro.run()"
   ]
  },
  {
   "cell_type": "code",
   "execution_count": 86,
   "id": "83c78ee6",
   "metadata": {},
   "outputs": [
    {
     "data": {
      "text/plain": [
       "1211.7779359700871"
      ]
     },
     "execution_count": 86,
     "metadata": {},
     "output_type": "execute_result"
    }
   ],
   "source": [
    "cerebro.broker.getvalue()"
   ]
  },
  {
   "cell_type": "code",
   "execution_count": 87,
   "id": "2869216c",
   "metadata": {},
   "outputs": [
    {
     "data": {
      "text/plain": [
       "OrderedDict([('sharperatio', 0.48630820546228415)])"
      ]
     },
     "execution_count": 87,
     "metadata": {},
     "output_type": "execute_result"
    }
   ],
   "source": [
    "back[0].analyzers.sharpe.get_analysis()\n",
    "back[0].analyzers.transactions.get_analysis()\n",
    "back[0].analyzers.trades.get_analysis()"
   ]
  }
 ],
 "metadata": {
  "kernelspec": {
   "display_name": "Python 3",
   "language": "python",
   "name": "python3"
  },
  "language_info": {
   "codemirror_mode": {
    "name": "ipython",
    "version": 3
   },
   "file_extension": ".py",
   "mimetype": "text/x-python",
   "name": "python",
   "nbconvert_exporter": "python",
   "pygments_lexer": "ipython3",
   "version": "3.7.10"
  }
 },
 "nbformat": 4,
 "nbformat_minor": 5
}
