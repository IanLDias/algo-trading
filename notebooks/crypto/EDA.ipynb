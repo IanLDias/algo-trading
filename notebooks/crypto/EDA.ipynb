{
 "cells": [
  {
   "cell_type": "code",
   "execution_count": 5,
   "id": "de04cdce",
   "metadata": {},
   "outputs": [],
   "source": [
    "import pandas as pd\n",
    "from datetime import datetime\n",
    "import re\n",
    "import numpy as np\n",
    "import plotly.express as px\n",
    "import sys\n",
    "import os\n",
    "sys.path.append(os.path.abspath('../'))\n",
    "from sklearn.model_selection import train_test_split\n",
    "from sklearn.model_selection import GridSearchCV\n",
    "from sklearn.ensemble import RandomForestClassifier, RandomForestRegressor\n",
    "from sklearn.linear_model import LinearRegression, LogisticRegression\n",
    "from sklearn.svm import SVC, SVR\n",
    "from sklearn.metrics import accuracy_score, precision_score, f1_score, recall_score\n",
    "from sklearn.metrics import mean_squared_error as MSE, mean_absolute_error as MAE\n",
    "\n",
    "from helper_funcs import get_data, convert_unix_to_datetime, separate_symbols\n",
    "import sqlite3\n",
    "from helper_funcs import model_pipeline, preprocess"
   ]
  },
  {
   "cell_type": "code",
   "execution_count": 6,
   "id": "b8fd62a4-71ba-4066-95dd-b09401561249",
   "metadata": {},
   "outputs": [],
   "source": [
    "DB_PATH = os.environ.get('DB_PATH')\n",
    "DB_PATH = os.path.realpath(f'../../{DB_PATH}')"
   ]
  },
  {
   "cell_type": "code",
   "execution_count": 7,
   "id": "a3028f8f",
   "metadata": {},
   "outputs": [
    {
     "name": "stdout",
     "output_type": "stream",
     "text": [
      "/Users/iandias/Desktop/Quant/algo-trading/historical_data.db\n"
     ]
    }
   ],
   "source": [
    "tickers = ['BTC', 'ETH']\n",
    "data = get_data(tickers, DB_PATH)\n",
    "\n",
    "df = pd.DataFrame(data, columns = ['id', 'symbol', 'date', 'high', 'low', 'open', 'close', 'volumeto', 'volumefor'])\n",
    "df = df.drop('id', axis=1)\n",
    "df['date'] = convert_unix_to_datetime(df['date'])\n",
    "btc, eth  = separate_symbols(df)"
   ]
  },
  {
   "cell_type": "code",
   "execution_count": 8,
   "id": "2b26723b",
   "metadata": {},
   "outputs": [
    {
     "name": "stderr",
     "output_type": "stream",
     "text": [
      "/Users/iandias/Desktop/Quant/algo-trading/notebooks/helper_funcs.py:119: SettingWithCopyWarning: \n",
      "A value is trying to be set on a copy of a slice from a DataFrame.\n",
      "Try using .loc[row_indexer,col_indexer] = value instead\n",
      "\n",
      "See the caveats in the documentation: https://pandas.pydata.org/pandas-docs/stable/user_guide/indexing.html#returning-a-view-versus-a-copy\n",
      "  df['close_lag'+str(i)] = lag_close_col\n",
      "/Users/iandias/Desktop/Quant/algo-trading/notebooks/helper_funcs.py:120: SettingWithCopyWarning: \n",
      "A value is trying to be set on a copy of a slice from a DataFrame.\n",
      "Try using .loc[row_indexer,col_indexer] = value instead\n",
      "\n",
      "See the caveats in the documentation: https://pandas.pydata.org/pandas-docs/stable/user_guide/indexing.html#returning-a-view-versus-a-copy\n",
      "  df['parkinson_lag'+str(i)] = lag_park_col\n",
      "/Users/iandias/Desktop/Quant/algo-trading/notebooks/helper_funcs.py:119: SettingWithCopyWarning: \n",
      "A value is trying to be set on a copy of a slice from a DataFrame.\n",
      "Try using .loc[row_indexer,col_indexer] = value instead\n",
      "\n",
      "See the caveats in the documentation: https://pandas.pydata.org/pandas-docs/stable/user_guide/indexing.html#returning-a-view-versus-a-copy\n",
      "  df['close_lag'+str(i)] = lag_close_col\n"
     ]
    }
   ],
   "source": [
    "btc_process = preprocess(btc, 'BTC')\n",
    "btc_process = btc_process.dropna()"
   ]
  },
  {
   "cell_type": "code",
   "execution_count": 9,
   "id": "1204e032",
   "metadata": {},
   "outputs": [
    {
     "name": "stderr",
     "output_type": "stream",
     "text": [
      "/Users/iandias/Desktop/Quant/algo-trading/.direnv/python-3.8.10/lib/python3.8/site-packages/sklearn/metrics/_classification.py:1318: UndefinedMetricWarning: Precision is ill-defined and being set to 0.0 due to no predicted samples. Use `zero_division` parameter to control this behavior.\n",
      "  _warn_prf(average, modifier, msg_start, len(result))\n",
      "/Users/iandias/Desktop/Quant/algo-trading/.direnv/python-3.8.10/lib/python3.8/site-packages/sklearn/metrics/_classification.py:1318: UndefinedMetricWarning: Precision is ill-defined and being set to 0.0 due to no predicted samples. Use `zero_division` parameter to control this behavior.\n",
      "  _warn_prf(average, modifier, msg_start, len(result))\n",
      "/Users/iandias/Desktop/Quant/algo-trading/.direnv/python-3.8.10/lib/python3.8/site-packages/sklearn/metrics/_classification.py:1318: UndefinedMetricWarning: Precision is ill-defined and being set to 0.0 due to no predicted samples. Use `zero_division` parameter to control this behavior.\n",
      "  _warn_prf(average, modifier, msg_start, len(result))\n",
      "/Users/iandias/Desktop/Quant/algo-trading/.direnv/python-3.8.10/lib/python3.8/site-packages/sklearn/metrics/_classification.py:1318: UndefinedMetricWarning: Precision is ill-defined and being set to 0.0 due to no predicted samples. Use `zero_division` parameter to control this behavior.\n",
      "  _warn_prf(average, modifier, msg_start, len(result))\n",
      "/Users/iandias/Desktop/Quant/algo-trading/.direnv/python-3.8.10/lib/python3.8/site-packages/sklearn/metrics/_classification.py:1318: UndefinedMetricWarning: Precision is ill-defined and being set to 0.0 due to no predicted samples. Use `zero_division` parameter to control this behavior.\n",
      "  _warn_prf(average, modifier, msg_start, len(result))\n"
     ]
    },
    {
     "data": {
      "text/html": [
       "<div>\n",
       "<style scoped>\n",
       "    .dataframe tbody tr th:only-of-type {\n",
       "        vertical-align: middle;\n",
       "    }\n",
       "\n",
       "    .dataframe tbody tr th {\n",
       "        vertical-align: top;\n",
       "    }\n",
       "\n",
       "    .dataframe thead th {\n",
       "        text-align: right;\n",
       "    }\n",
       "</style>\n",
       "<table border=\"1\" class=\"dataframe\">\n",
       "  <thead>\n",
       "    <tr style=\"text-align: right;\">\n",
       "      <th></th>\n",
       "      <th>MAE</th>\n",
       "      <th>MSE</th>\n",
       "      <th>f1</th>\n",
       "      <th>precision</th>\n",
       "      <th>recall</th>\n",
       "      <th>accuracy</th>\n",
       "    </tr>\n",
       "  </thead>\n",
       "  <tbody>\n",
       "    <tr>\n",
       "      <th>LogisticRegression</th>\n",
       "      <td>NaN</td>\n",
       "      <td>NaN</td>\n",
       "      <td>0.0</td>\n",
       "      <td>0.0</td>\n",
       "      <td>0.0</td>\n",
       "      <td>0.810498</td>\n",
       "    </tr>\n",
       "    <tr>\n",
       "      <th>RandomForestClassifier</th>\n",
       "      <td>NaN</td>\n",
       "      <td>NaN</td>\n",
       "      <td>0.148148</td>\n",
       "      <td>0.6</td>\n",
       "      <td>0.084507</td>\n",
       "      <td>0.815836</td>\n",
       "    </tr>\n",
       "    <tr>\n",
       "      <th>SVC</th>\n",
       "      <td>NaN</td>\n",
       "      <td>NaN</td>\n",
       "      <td>0.0</td>\n",
       "      <td>0.0</td>\n",
       "      <td>0.0</td>\n",
       "      <td>0.810498</td>\n",
       "    </tr>\n",
       "    <tr>\n",
       "      <th>EnsembleClf</th>\n",
       "      <td>NaN</td>\n",
       "      <td>NaN</td>\n",
       "      <td>0.0</td>\n",
       "      <td>0.0</td>\n",
       "      <td>0.0</td>\n",
       "      <td>0.810498</td>\n",
       "    </tr>\n",
       "    <tr>\n",
       "      <th>LinearRegression</th>\n",
       "      <td>0.008572</td>\n",
       "      <td>0.000563</td>\n",
       "      <td>NaN</td>\n",
       "      <td>NaN</td>\n",
       "      <td>NaN</td>\n",
       "      <td>NaN</td>\n",
       "    </tr>\n",
       "    <tr>\n",
       "      <th>RandomForestRegressor</th>\n",
       "      <td>0.018251</td>\n",
       "      <td>0.001014</td>\n",
       "      <td>NaN</td>\n",
       "      <td>NaN</td>\n",
       "      <td>NaN</td>\n",
       "      <td>NaN</td>\n",
       "    </tr>\n",
       "    <tr>\n",
       "      <th>SVR</th>\n",
       "      <td>0.534005</td>\n",
       "      <td>0.4054</td>\n",
       "      <td>NaN</td>\n",
       "      <td>NaN</td>\n",
       "      <td>NaN</td>\n",
       "      <td>NaN</td>\n",
       "    </tr>\n",
       "    <tr>\n",
       "      <th>EnsembleReg</th>\n",
       "      <td>0.180185</td>\n",
       "      <td>0.04632</td>\n",
       "      <td>NaN</td>\n",
       "      <td>NaN</td>\n",
       "      <td>NaN</td>\n",
       "      <td>NaN</td>\n",
       "    </tr>\n",
       "  </tbody>\n",
       "</table>\n",
       "</div>"
      ],
      "text/plain": [
       "                             MAE       MSE        f1 precision    recall  \\\n",
       "LogisticRegression           NaN       NaN       0.0       0.0       0.0   \n",
       "RandomForestClassifier       NaN       NaN  0.148148       0.6  0.084507   \n",
       "SVC                          NaN       NaN       0.0       0.0       0.0   \n",
       "EnsembleClf                  NaN       NaN       0.0       0.0       0.0   \n",
       "LinearRegression        0.008572  0.000563       NaN       NaN       NaN   \n",
       "RandomForestRegressor   0.018251  0.001014       NaN       NaN       NaN   \n",
       "SVR                     0.534005    0.4054       NaN       NaN       NaN   \n",
       "EnsembleReg             0.180185   0.04632       NaN       NaN       NaN   \n",
       "\n",
       "                        accuracy  \n",
       "LogisticRegression      0.810498  \n",
       "RandomForestClassifier  0.815836  \n",
       "SVC                     0.810498  \n",
       "EnsembleClf             0.810498  \n",
       "LinearRegression             NaN  \n",
       "RandomForestRegressor        NaN  \n",
       "SVR                          NaN  \n",
       "EnsembleReg                  NaN  "
      ]
     },
     "execution_count": 9,
     "metadata": {},
     "output_type": "execute_result"
    }
   ],
   "source": [
    "model = model_pipeline(btc_process)\n",
    "btc_model = model.make_dataframe()\n",
    "btc_model"
   ]
  },
  {
   "cell_type": "code",
   "execution_count": 10,
   "id": "39dd90bc",
   "metadata": {},
   "outputs": [],
   "source": [
    "_, pred, _ = model.fit_model('RandomForestClassifier')"
   ]
  },
  {
   "cell_type": "code",
   "execution_count": 13,
   "id": "b81265d7",
   "metadata": {},
   "outputs": [
    {
     "data": {
      "text/plain": [
       "0.030249110320284697"
      ]
     },
     "execution_count": 13,
     "metadata": {},
     "output_type": "execute_result"
    }
   ],
   "source": [
    "sum(pred) / len(pred)"
   ]
  },
  {
   "cell_type": "code",
   "execution_count": 14,
   "id": "4b9fd085",
   "metadata": {},
   "outputs": [
    {
     "data": {
      "text/html": [
       "<div>\n",
       "<style scoped>\n",
       "    .dataframe tbody tr th:only-of-type {\n",
       "        vertical-align: middle;\n",
       "    }\n",
       "\n",
       "    .dataframe tbody tr th {\n",
       "        vertical-align: top;\n",
       "    }\n",
       "\n",
       "    .dataframe thead th {\n",
       "        text-align: right;\n",
       "    }\n",
       "</style>\n",
       "<table border=\"1\" class=\"dataframe\">\n",
       "  <thead>\n",
       "    <tr style=\"text-align: right;\">\n",
       "      <th></th>\n",
       "      <th>symbol</th>\n",
       "      <th>date</th>\n",
       "      <th>high</th>\n",
       "      <th>low</th>\n",
       "      <th>open</th>\n",
       "      <th>close</th>\n",
       "      <th>volumeto</th>\n",
       "      <th>volumefor</th>\n",
       "      <th>rel_price_change</th>\n",
       "      <th>parkinson_vol</th>\n",
       "    </tr>\n",
       "  </thead>\n",
       "  <tbody>\n",
       "    <tr>\n",
       "      <th>0</th>\n",
       "      <td>BTC</td>\n",
       "      <td>2016-11-08</td>\n",
       "      <td>714.63</td>\n",
       "      <td>700.96</td>\n",
       "      <td>705.4</td>\n",
       "      <td>6.566532</td>\n",
       "      <td>28262235.71</td>\n",
       "      <td>39732.33</td>\n",
       "      <td>0.019314</td>\n",
       "      <td>0.008040</td>\n",
       "    </tr>\n",
       "    <tr>\n",
       "      <th>4002</th>\n",
       "      <td>BTC</td>\n",
       "      <td>2016-11-08</td>\n",
       "      <td>714.63</td>\n",
       "      <td>700.96</td>\n",
       "      <td>705.4</td>\n",
       "      <td>6.566532</td>\n",
       "      <td>28262235.71</td>\n",
       "      <td>39732.33</td>\n",
       "      <td>0.019314</td>\n",
       "      <td>0.008040</td>\n",
       "    </tr>\n",
       "    <tr>\n",
       "      <th>2001</th>\n",
       "      <td>BTC</td>\n",
       "      <td>2016-11-08</td>\n",
       "      <td>714.63</td>\n",
       "      <td>700.96</td>\n",
       "      <td>705.4</td>\n",
       "      <td>6.581221</td>\n",
       "      <td>28262235.71</td>\n",
       "      <td>39732.33</td>\n",
       "      <td>0.019314</td>\n",
       "      <td>0.008040</td>\n",
       "    </tr>\n",
       "    <tr>\n",
       "      <th>1</th>\n",
       "      <td>BTC</td>\n",
       "      <td>2016-11-09</td>\n",
       "      <td>741.23</td>\n",
       "      <td>707.13</td>\n",
       "      <td>710.9</td>\n",
       "      <td>6.581221</td>\n",
       "      <td>51548567.54</td>\n",
       "      <td>70698.20</td>\n",
       "      <td>0.047088</td>\n",
       "      <td>0.019605</td>\n",
       "    </tr>\n",
       "    <tr>\n",
       "      <th>4003</th>\n",
       "      <td>BTC</td>\n",
       "      <td>2016-11-09</td>\n",
       "      <td>741.23</td>\n",
       "      <td>707.13</td>\n",
       "      <td>710.9</td>\n",
       "      <td>6.581221</td>\n",
       "      <td>51548567.54</td>\n",
       "      <td>70698.20</td>\n",
       "      <td>0.047088</td>\n",
       "      <td>0.019605</td>\n",
       "    </tr>\n",
       "  </tbody>\n",
       "</table>\n",
       "</div>"
      ],
      "text/plain": [
       "     symbol        date    high     low   open     close     volumeto  \\\n",
       "0       BTC  2016-11-08  714.63  700.96  705.4  6.566532  28262235.71   \n",
       "4002    BTC  2016-11-08  714.63  700.96  705.4  6.566532  28262235.71   \n",
       "2001    BTC  2016-11-08  714.63  700.96  705.4  6.581221  28262235.71   \n",
       "1       BTC  2016-11-09  741.23  707.13  710.9  6.581221  51548567.54   \n",
       "4003    BTC  2016-11-09  741.23  707.13  710.9  6.581221  51548567.54   \n",
       "\n",
       "      volumefor  rel_price_change  parkinson_vol  \n",
       "0      39732.33          0.019314       0.008040  \n",
       "4002   39732.33          0.019314       0.008040  \n",
       "2001   39732.33          0.019314       0.008040  \n",
       "1      70698.20          0.047088       0.019605  \n",
       "4003   70698.20          0.047088       0.019605  "
      ]
     },
     "execution_count": 14,
     "metadata": {},
     "output_type": "execute_result"
    }
   ],
   "source": [
    "btc.head()"
   ]
  },
  {
   "cell_type": "code",
   "execution_count": null,
   "id": "d265b230",
   "metadata": {},
   "outputs": [],
   "source": [
    "import backtrader as bt\n",
    "import backtrader.analyzers as btanalyzers"
   ]
  },
  {
   "cell_type": "code",
   "execution_count": null,
   "id": "4ffc5fe2",
   "metadata": {},
   "outputs": [],
   "source": [
    "class backtesting(bt.Strategy):\n",
    "    def __init__(self):\n",
    "        ma_fast = bt.ind.SMA(period = 10)\n",
    "        ma_slow = bt.ind.SMA(period = 50)\n",
    "        \n",
    "        self.crossover = bt.ind.CrossOver(ma_fast, ma_slow)\n",
    "        \n",
    "    \n",
    "    def next(self):\n",
    "        if not self.position:\n",
    "            if self.crossover > 0:\n",
    "                self.buy()\n",
    "        elif self.crossover < 0:\n",
    "            self.close()\n",
    "        "
   ]
  },
  {
   "cell_type": "code",
   "execution_count": null,
   "id": "4bb62ae7",
   "metadata": {},
   "outputs": [],
   "source": [
    "\n",
    "btc.drop('symbol', axis=1, inplace=True)\n",
    "btc = btc.dropna()\n",
    "btc.set_index('date', inplace=True)"
   ]
  },
  {
   "cell_type": "code",
   "execution_count": null,
   "id": "5e3833c8",
   "metadata": {},
   "outputs": [],
   "source": [
    "btc_bt = btc[['open', 'high', 'low', 'close', 'volumeto']]\n",
    "btc_bt.rename(columns={'volumeto': 'volume'}, inplace=True)"
   ]
  },
  {
   "cell_type": "code",
   "execution_count": null,
   "id": "2ba27e95",
   "metadata": {},
   "outputs": [],
   "source": [
    "pred = [int(x) for x in pred\n",
    "pred = pd.DataFrame(pred, index = btc_bt[-374:].index, columns=['predicted'])"
   ]
  },
  {
   "cell_type": "code",
   "execution_count": null,
   "id": "fad455d9",
   "metadata": {},
   "outputs": [],
   "source": [
    "prices = pred.join(btc_bt[-374:])"
   ]
  },
  {
   "cell_type": "code",
   "execution_count": null,
   "id": "2e9227bb",
   "metadata": {},
   "outputs": [],
   "source": [
    "prices.index = pd.to_datetime(prices.index)"
   ]
  },
  {
   "cell_type": "code",
   "execution_count": null,
   "id": "6b3e3429",
   "metadata": {},
   "outputs": [],
   "source": [
    "OHLCV = ['open', 'high', 'low', 'close', 'volume']\n",
    "class SignalData(bt.feeds.PandasData):\n",
    "    \"\"\"\n",
    "    Define pandas DataFrame structure\n",
    "    \"\"\"\n",
    "    cols = OHLCV + ['predicted']\n",
    "    # create lines\n",
    "    lines = tuple(cols)\n",
    "    \n",
    "    # define parameters\n",
    "    params = {c: -1 for c in cols}\n",
    "    params.update({'datetime': None})\n",
    "    params = tuple(params.items())"
   ]
  },
  {
   "cell_type": "code",
   "execution_count": null,
   "id": "a8c3cf8e",
   "metadata": {},
   "outputs": [],
   "source": [
    "# define backtesting strategy class\n",
    "class MLStrategy(bt.Strategy):\n",
    "    params = dict(\n",
    "    )\n",
    "    \n",
    "    def __init__(self):\n",
    "        # keep track of open, close prices and predicted value in the series\n",
    "        self.data_predicted = self.datas[0].predicted\n",
    "        self.data_open = self.datas[0].open\n",
    "        self.data_close = self.datas[0].close\n",
    "        \n",
    "        # keep track of pending orders/buy price/buy commission\n",
    "        self.order = None\n",
    "        self.price = None\n",
    "        self.comm = None    # logging function\n",
    "    def log(self, txt):\n",
    "        '''Logging function'''\n",
    "        dt = self.datas[0].datetime.date(0).isoformat()\n",
    "        print(f'{dt}, {txt}')    \n",
    "    \n",
    "    def notify_order(self, order):\n",
    "        if order.status in [order.Submitted, order.Accepted]:\n",
    "            # order already submitted/accepted - no action required\n",
    "            return        # report executed order\n",
    "        if order.status in [order.Completed]:\n",
    "            if order.isbuy():\n",
    "                self.log(f'BUY EXECUTED --- Price: {order.executed.price:.2f}, Cost: {order.executed.value:.2f},Commission: {order.executed.comm:.2f}'\n",
    "                )\n",
    "                self.price = order.executed.price\n",
    "                self.comm = order.executed.comm\n",
    "            else:\n",
    "                self.log(f'SELL EXECUTED --- Price: {order.executed.price:.2f}, Cost: {order.executed.value:.2f},Commission: {order.executed.comm:.2f}'\n",
    "                )        # report failed order\n",
    "        elif order.status in [order.Canceled, order.Margin, \n",
    "                              order.Rejected]:\n",
    "            self.log('Order Failed')        # set no pending order\n",
    "        self.order = None    \n",
    "        \n",
    "    def notify_trade(self, trade):\n",
    "        if not trade.isclosed:\n",
    "            return\n",
    "        \n",
    "        self.log(f'OPERATION RESULT --- Gross: {trade.pnl:.2f}, Net: {trade.pnlcomm:.2f}')    \n",
    "        # We have set cheat_on_open = True.This means that we calculated the signals on day t's close price, \n",
    "        # but calculated the number of shares we wanted to buy based on day t+1's open price.\n",
    "    \n",
    "    def next_open(self):\n",
    "        if not self.position:\n",
    "            if self.data_predicted > 0:\n",
    "                # calculate the max number of shares ('all-in')\n",
    "                size = int(self.broker.getcash() / self.datas[0].open) / 10\n",
    "                # buy order\n",
    "                self.log(f'BUY CREATED --- Size: {size}, Cash: {self.broker.getcash():.2f}, Open: {self.data_open[0]}, Close: {self.data_close[0]}')\n",
    "                self.buy(size=size)\n",
    "        else:\n",
    "            if self.data_predicted < 0:\n",
    "                # sell order\n",
    "                self.log(f'SELL CREATED --- Size: {self.position.size}')\n",
    "                self.sell(size=self.position.size)"
   ]
  },
  {
   "cell_type": "code",
   "execution_count": null,
   "id": "9cacc526",
   "metadata": {},
   "outputs": [],
   "source": [
    "# instantiate SignalData class\n",
    "data = SignalData(dataname=prices)# instantiate Cerebro, add strategy, data, initial cash, commission and pyfolio for performance analysis\n",
    "cerebro = bt.Cerebro(stdstats = False, cheat_on_open=True)\n",
    "cerebro.addstrategy(MLStrategy)\n",
    "cerebro.adddata(data)\n",
    "cerebro.broker.setcash(100000.0)\n",
    "cerebro.broker.setcommission(commission=0.001)\n",
    "#cerebro.addanalyzer(bt.analyzers.PyFolio, _name='pyfolio')# run the backtest\n",
    "print('Starting Portfolio Value: %.2f' % cerebro.broker.getvalue())\n",
    "backtest_result = cerebro.run()\n",
    "print('Final Portfolio Value: %.2f' % cerebro.broker.getvalue())\n"
   ]
  },
  {
   "cell_type": "code",
   "execution_count": null,
   "id": "e1710387",
   "metadata": {},
   "outputs": [],
   "source": [
    "cerebro = bt.Cerebro()\n",
    "#data = bt.feeds.YahooFinanceData(dataname='AAPL', fromdate = datetime(2010, 1, 1), todate = datetime(2020, 1, 1))\n",
    "data = bt.feeds.PandasData(dataname=btc)\n",
    "cerebro.adddata(data)"
   ]
  },
  {
   "cell_type": "code",
   "execution_count": null,
   "id": "60972d12",
   "metadata": {},
   "outputs": [],
   "source": [
    "cerebro.addstrategy(backtesting)\n",
    "cerebro.broker.setcash(1000.0)\n",
    "cerebro.addsizer(bt.sizers.PercentSizer, percents=10)"
   ]
  },
  {
   "cell_type": "code",
   "execution_count": null,
   "id": "e588fb7e",
   "metadata": {},
   "outputs": [],
   "source": [
    "cerebro.addanalyzer(btanalyzers.SharpeRatio, _name = \"sharpe\")\n",
    "cerebro.addanalyzer(btanalyzers.Transactions, _name = \"transactions\")\n",
    "cerebro.addanalyzer(btanalyzers.TradeAnalyzer, _name = \"trades\")"
   ]
  },
  {
   "cell_type": "code",
   "execution_count": null,
   "id": "97e436af",
   "metadata": {},
   "outputs": [],
   "source": [
    "back = cerebro.run()"
   ]
  },
  {
   "cell_type": "code",
   "execution_count": null,
   "id": "83c78ee6",
   "metadata": {},
   "outputs": [],
   "source": [
    "cerebro.broker.getvalue()"
   ]
  },
  {
   "cell_type": "code",
   "execution_count": null,
   "id": "2869216c",
   "metadata": {},
   "outputs": [],
   "source": [
    "back[0].analyzers.sharpe.get_analysis()\n",
    "back[0].analyzers.transactions.get_analysis()\n",
    "back[0].analyzers.trades.get_analysis()"
   ]
  }
 ],
 "metadata": {
  "kernelspec": {
   "display_name": "algo_trading_direnv",
   "language": "python",
   "name": "algo_trading_direnv"
  },
  "language_info": {
   "codemirror_mode": {
    "name": "ipython",
    "version": 3
   },
   "file_extension": ".py",
   "mimetype": "text/x-python",
   "name": "python",
   "nbconvert_exporter": "python",
   "pygments_lexer": "ipython3",
   "version": "3.8.10"
  }
 },
 "nbformat": 4,
 "nbformat_minor": 5
}
