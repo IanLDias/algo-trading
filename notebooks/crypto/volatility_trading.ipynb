{
 "cells": [
  {
   "cell_type": "code",
   "execution_count": 1,
   "id": "ee42861f-d90e-489e-87e8-559409472a6f",
   "metadata": {},
   "outputs": [],
   "source": [
    "import pandas as pd\n",
    "import re\n",
    "import numpy as np\n",
    "import plotly.express as px\n",
    "import datetime\n",
    "import os, sys\n",
    "import sqlite3\n",
    "sys.path.append(os.path.abspath('../'))\n",
    "from helper_funcs import get_data, convert_epoch_to_datetime\n",
    "\n",
    "from sklearn.model_selection import train_test_split\n",
    "from sklearn.model_selection import GridSearchCV\n",
    "from sklearn.ensemble import RandomForestClassifier, RandomForestRegressor\n",
    "from sklearn.linear_model import LinearRegression, LogisticRegression\n",
    "from sklearn.svm import SVC, SVR\n",
    "\n",
    "from sklearn.metrics import accuracy_score, precision_score, f1_score, recall_score\n",
    "from sklearn.metrics import mean_squared_error as MSE, mean_absolute_error as MAE"
   ]
  },
  {
   "cell_type": "code",
   "execution_count": 2,
   "id": "85d6bc15-f5ed-4719-b790-9edd4ee37c40",
   "metadata": {},
   "outputs": [],
   "source": [
    "DB_PATH = os.environ.get('DB_PATH')\n",
    "btc_df = get_data('BTC', 'USDT', DB_PATH)\n",
    "eth_df = get_data('ETH', 'USDT', DB_PATH)\n",
    "btc_df = convert_epoch_to_datetime(btc_df, 'close_time')\n",
    "eth_df = convert_epoch_to_datetime(eth_df, 'close_time')"
   ]
  },
  {
   "cell_type": "code",
   "execution_count": null,
   "id": "6163fd15-4329-4f6e-aab5-52d96013fd2d",
   "metadata": {},
   "outputs": [],
   "source": []
  }
 ],
 "metadata": {
  "kernelspec": {
   "display_name": "algo_trading_direnv",
   "language": "python",
   "name": "algo_trading_direnv"
  },
  "language_info": {
   "codemirror_mode": {
    "name": "ipython",
    "version": 3
   },
   "file_extension": ".py",
   "mimetype": "text/x-python",
   "name": "python",
   "nbconvert_exporter": "python",
   "pygments_lexer": "ipython3",
   "version": "3.8.10"
  }
 },
 "nbformat": 4,
 "nbformat_minor": 5
}
