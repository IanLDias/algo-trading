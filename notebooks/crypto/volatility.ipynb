{
 "cells": [
  {
   "cell_type": "markdown",
   "id": "c6e94a46-913c-4391-9d93-aec9281915bc",
   "metadata": {
    "tags": []
   },
   "source": [
    "## Volatility Trading Strategies\n",
    "\n",
    "#### Option 1: Buy every time it goes down, sell every time it goes up\n",
    "- Need to set up a websocket stream\n",
    "- Find the volitility of the top 20 cryptos"
   ]
  },
  {
   "cell_type": "code",
   "execution_count": 1,
   "id": "47e0a8f5-5878-408f-9535-bc3b26a1e8d8",
   "metadata": {},
   "outputs": [],
   "source": [
    "import pandas as pd\n",
    "import re\n",
    "import numpy as np\n",
    "import plotly.express as px\n",
    "import datetime\n",
    "import os, sys\n",
    "import sqlite3\n",
    "import websocket\n",
    "sys.path.append(os.path.abspath('../'))\n",
    "from helper_funcs import get_data, convert_epoch_to_datetime\n",
    "\n",
    "from sklearn.model_selection import train_test_split\n",
    "from sklearn.model_selection import GridSearchCV\n",
    "from sklearn.ensemble import RandomForestClassifier, RandomForestRegressor\n",
    "from sklearn.linear_model import LinearRegression, LogisticRegression\n",
    "from sklearn.svm import SVC, SVR\n",
    "\n",
    "from sklearn.metrics import accuracy_score, precision_score, f1_score, recall_score\n",
    "from sklearn.metrics import mean_squared_error as MSE, mean_absolute_error as MAE\n",
    "\n",
    "import time\n",
    "import json\n",
    "import hmac\n",
    "import hashlib\n",
    "import requests\n",
    "from urllib.parse import urljoin, urlencode\n",
    "\n",
    "from binance import ThreadedWebsocketManager as twm"
   ]
  },
  {
   "cell_type": "code",
   "execution_count": 2,
   "id": "fd436044-a5b1-45ae-ba69-77de85fab6ff",
   "metadata": {},
   "outputs": [],
   "source": [
    "API_KEY = os.environ.get('BINANCE_API_KEY_STAGING')   \n",
    "SECRET_KEY = os.environ.get('BINANCE_SECRET_KEY_STAGING')\n",
    "\n",
    "BASE_URL = \"wss://stream.binance.com:9443\"\n",
    "PATH = '/ws/btcusdt@kline_1m'\n",
    "socket = urljoin(BASE_URL, PATH)"
   ]
  },
  {
   "cell_type": "code",
   "execution_count": 8,
   "id": "f524a7c4-85e0-4ffd-8f1f-7599d363e19d",
   "metadata": {},
   "outputs": [],
   "source": [
    "def on_message(ws, message):\n",
    "    json_message = json.loads(message)\n",
    "    candle = json_message['k']\n",
    "    is_candle_closed = candle['x']\n",
    "    candleclose = candle['c']\n",
    "    candle['candle['candle['high = candle['h']\n",
    "    low = candle['l']\n",
    "    vol = candle['v']\n",
    "    \n",
    "    print(close, high, low, vol)\n",
    "#     if is_candle_closed:\n",
    "#         closes.append(float(close))\n",
    "#         highs.append(float(high))\n",
    "#         lows.append(float(high))\n",
    "        \n",
    "    \n",
    "def on_close(ws):\n",
    "    print(\"Closed\")\n",
    "\n",
    "ws = websocket.WebSocketApp(socket, on_message=on_message, on_close=on_close)"
   ]
  },
  {
   "cell_type": "code",
   "execution_count": null,
   "id": "c54ceef0-de43-4204-b352-e6cce2cf33a0",
   "metadata": {},
   "outputs": [
    {
     "name": "stdout",
     "output_type": "stream",
     "text": [
      "39556.79000000 39556.80000000 39556.79000000 2.74388000\n",
      "39556.79000000 39556.80000000 39556.79000000 2.83038000\n",
      "39556.79000000 39556.80000000 39556.79000000 2.91237000\n",
      "39556.79000000 39556.80000000 39556.79000000 3.02325000\n"
     ]
    }
   ],
   "source": [
    "ws.run_forever()"
   ]
  },
  {
   "cell_type": "code",
   "execution_count": 5,
   "id": "2a1eb591-f830-464b-8ffd-7811a2a1e4d8",
   "metadata": {},
   "outputs": [],
   "source": [
    "# r = requests.get(url, headers=headers, params=params)\n",
    "# if r.status_code == 200:\n",
    "#     print(json.dumps(r.json(), indent=2))\n",
    "# else:\n",
    "#     raise BinanceException(status_code=r.status_code, data=r.json())"
   ]
  }
 ],
 "metadata": {
  "kernelspec": {
   "display_name": "algo_trading_direnv",
   "language": "python",
   "name": "algo_trading_direnv"
  },
  "language_info": {
   "codemirror_mode": {
    "name": "ipython",
    "version": 3
   },
   "file_extension": ".py",
   "mimetype": "text/x-python",
   "name": "python",
   "nbconvert_exporter": "python",
   "pygments_lexer": "ipython3",
   "version": "3.8.10"
  }
 },
 "nbformat": 4,
 "nbformat_minor": 5
}
