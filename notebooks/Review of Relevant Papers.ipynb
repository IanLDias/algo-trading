{
 "cells": [
  {
   "cell_type": "markdown",
   "id": "bcb55457",
   "metadata": {},
   "source": [
    "## Interesing Journal Articles and their implementations"
   ]
  },
  {
   "cell_type": "markdown",
   "id": "4abb74a0",
   "metadata": {},
   "source": [
    "#### Forecasting and trading cryptocurrencies with machine learning under changing market conditions\n",
    "https://jfin-swufe.springeropen.com/articles/10.1186/s40854-020-00217-x"
   ]
  },
  {
   "cell_type": "markdown",
   "id": "4ac1f6e4",
   "metadata": {},
   "source": [
    "#### General useful information for signals\n",
    "##### BTC\n",
    "- Google trends link with crypto\n",
    "- Gold shocks linked to bitcoin?\n",
    "- CPI, Dow Jones industrial avg, federal funds rate, gold price, US dollar index influence monthly BTC prices\n",
    "- Also US money supply, GDP, inflation, interest rates influence btc price.\n",
    "\n",
    "Price dynamic for bitcoin now more closely follow economic factors, rather than speculative investments.\n"
   ]
  },
  {
   "cell_type": "markdown",
   "id": "d8ca8874",
   "metadata": {},
   "source": [
    "#### The technology and economic determinants of cryptocurrency exchange rates: The case of Bitcoin\n",
    "https://www.sciencedirect.com/science/article/abs/pii/S0167923616302111?via%3Dihub"
   ]
  },
  {
   "cell_type": "markdown",
   "id": "1e38e522",
   "metadata": {},
   "source": [
    "#### Predicting cryptocurrency price bubbles using social media data and epidemic modelling \n",
    "https://ieeexplore.ieee.org/document/8280809"
   ]
  },
  {
   "cell_type": "code",
   "execution_count": null,
   "id": "0dc7cdd2",
   "metadata": {},
   "outputs": [],
   "source": []
  }
 ],
 "metadata": {
  "kernelspec": {
   "display_name": "Python 3",
   "language": "python",
   "name": "python3"
  },
  "language_info": {
   "codemirror_mode": {
    "name": "ipython",
    "version": 3
   },
   "file_extension": ".py",
   "mimetype": "text/x-python",
   "name": "python",
   "nbconvert_exporter": "python",
   "pygments_lexer": "ipython3",
   "version": "3.8.8"
  }
 },
 "nbformat": 4,
 "nbformat_minor": 5
}
